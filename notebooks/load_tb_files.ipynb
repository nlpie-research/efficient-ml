{
 "cells": [
  {
   "cell_type": "code",
   "execution_count": 59,
   "metadata": {},
   "outputs": [],
   "source": [
    "\n",
    "import torch\n",
    "# from tbparse import SummaryReader\n",
    "import os \n",
    "import pandas as pd\n",
    "import numpy as np\n",
    "import seaborn as sns\n",
    "import matplotlib.pyplot as plt\n",
    "%matplotlib inline\n",
    "import re\n",
    "import yaml\n",
    "from tqdm import tqdm\n",
    "# import tensorflow as tf\n",
    "from tensorboard.backend.event_processing.event_accumulator import \\\n",
    "    EventAccumulator\n",
    "from tbparse import SummaryReader\n",
    "from functools import reduce\n",
    "plt.rcParams.update({'font.size': 22})"
   ]
  },
  {
   "cell_type": "code",
   "execution_count": 58,
   "metadata": {},
   "outputs": [],
   "source": [
    "logdir = '/mnt/sdd/efficient_ml_data/saved_models/peft/logs/'"
   ]
  },
  {
   "cell_type": "code",
   "execution_count": 63,
   "metadata": {},
   "outputs": [],
   "source": [
    "\n",
    "\n",
    "reader = SummaryReader(logdir, extra_columns={'dir_name'})\n",
    "df = reader.scalars\n"
   ]
  },
  {
   "cell_type": "code",
   "execution_count": 64,
   "metadata": {},
   "outputs": [],
   "source": [
    "def get_configs(modeldir):\n",
    "    with open(logdir + modeldir + '/config.yaml') as f:\n",
    "        configs= yaml.load(f, Loader=yaml.FullLoader)\n",
    "    configs['dir_name'] = modeldir\n",
    "    return configs"
   ]
  },
  {
   "cell_type": "code",
   "execution_count": 65,
   "metadata": {},
   "outputs": [
    {
     "ename": "FileNotFoundError",
     "evalue": "[Errno 2] No such file or directory: '/mnt/sdd/efficient_ml_data/saved_models/peft/logs/i2b2-2012-NER/full/distil-biobert/LORA/13-07-2023--16-09/config.yaml'",
     "output_type": "error",
     "traceback": [
      "\u001b[0;31m---------------------------------------------------------------------------\u001b[0m",
      "\u001b[0;31mFileNotFoundError\u001b[0m                         Traceback (most recent call last)",
      "Cell \u001b[0;32mIn[65], line 1\u001b[0m\n\u001b[0;32m----> 1\u001b[0m config_list \u001b[39m=\u001b[39m df[\u001b[39m\"\u001b[39;49m\u001b[39mdir_name\u001b[39;49m\u001b[39m\"\u001b[39;49m]\u001b[39m.\u001b[39;49mdrop_duplicates()\u001b[39m.\u001b[39;49mapply(\u001b[39mlambda\u001b[39;49;00m x: get_configs(x))\n\u001b[1;32m      2\u001b[0m config_df \u001b[39m=\u001b[39m pd\u001b[39m.\u001b[39mDataFrame\u001b[39m.\u001b[39mfrom_records(config_list)\n\u001b[1;32m      3\u001b[0m df \u001b[39m=\u001b[39m pd\u001b[39m.\u001b[39mmerge(df, config_df, on\u001b[39m=\u001b[39m\u001b[39m'\u001b[39m\u001b[39mdir_name\u001b[39m\u001b[39m'\u001b[39m)\n",
      "File \u001b[0;32m/mnt/sdc/niallt/venvs/39nlp/lib/python3.9/site-packages/pandas/core/series.py:4626\u001b[0m, in \u001b[0;36mSeries.apply\u001b[0;34m(self, func, convert_dtype, args, **kwargs)\u001b[0m\n\u001b[1;32m   4516\u001b[0m \u001b[39mdef\u001b[39;00m \u001b[39mapply\u001b[39m(\n\u001b[1;32m   4517\u001b[0m     \u001b[39mself\u001b[39m,\n\u001b[1;32m   4518\u001b[0m     func: AggFuncType,\n\u001b[0;32m   (...)\u001b[0m\n\u001b[1;32m   4521\u001b[0m     \u001b[39m*\u001b[39m\u001b[39m*\u001b[39mkwargs,\n\u001b[1;32m   4522\u001b[0m ) \u001b[39m-\u001b[39m\u001b[39m>\u001b[39m DataFrame \u001b[39m|\u001b[39m Series:\n\u001b[1;32m   4523\u001b[0m \u001b[39m    \u001b[39m\u001b[39m\"\"\"\u001b[39;00m\n\u001b[1;32m   4524\u001b[0m \u001b[39m    Invoke function on values of Series.\u001b[39;00m\n\u001b[1;32m   4525\u001b[0m \n\u001b[0;32m   (...)\u001b[0m\n\u001b[1;32m   4624\u001b[0m \u001b[39m    dtype: float64\u001b[39;00m\n\u001b[1;32m   4625\u001b[0m \u001b[39m    \"\"\"\u001b[39;00m\n\u001b[0;32m-> 4626\u001b[0m     \u001b[39mreturn\u001b[39;00m SeriesApply(\u001b[39mself\u001b[39;49m, func, convert_dtype, args, kwargs)\u001b[39m.\u001b[39;49mapply()\n",
      "File \u001b[0;32m/mnt/sdc/niallt/venvs/39nlp/lib/python3.9/site-packages/pandas/core/apply.py:1025\u001b[0m, in \u001b[0;36mSeriesApply.apply\u001b[0;34m(self)\u001b[0m\n\u001b[1;32m   1022\u001b[0m     \u001b[39mreturn\u001b[39;00m \u001b[39mself\u001b[39m\u001b[39m.\u001b[39mapply_str()\n\u001b[1;32m   1024\u001b[0m \u001b[39m# self.f is Callable\u001b[39;00m\n\u001b[0;32m-> 1025\u001b[0m \u001b[39mreturn\u001b[39;00m \u001b[39mself\u001b[39;49m\u001b[39m.\u001b[39;49mapply_standard()\n",
      "File \u001b[0;32m/mnt/sdc/niallt/venvs/39nlp/lib/python3.9/site-packages/pandas/core/apply.py:1076\u001b[0m, in \u001b[0;36mSeriesApply.apply_standard\u001b[0;34m(self)\u001b[0m\n\u001b[1;32m   1074\u001b[0m     \u001b[39melse\u001b[39;00m:\n\u001b[1;32m   1075\u001b[0m         values \u001b[39m=\u001b[39m obj\u001b[39m.\u001b[39mastype(\u001b[39mobject\u001b[39m)\u001b[39m.\u001b[39m_values\n\u001b[0;32m-> 1076\u001b[0m         mapped \u001b[39m=\u001b[39m lib\u001b[39m.\u001b[39;49mmap_infer(\n\u001b[1;32m   1077\u001b[0m             values,\n\u001b[1;32m   1078\u001b[0m             f,\n\u001b[1;32m   1079\u001b[0m             convert\u001b[39m=\u001b[39;49m\u001b[39mself\u001b[39;49m\u001b[39m.\u001b[39;49mconvert_dtype,\n\u001b[1;32m   1080\u001b[0m         )\n\u001b[1;32m   1082\u001b[0m \u001b[39mif\u001b[39;00m \u001b[39mlen\u001b[39m(mapped) \u001b[39mand\u001b[39;00m \u001b[39misinstance\u001b[39m(mapped[\u001b[39m0\u001b[39m], ABCSeries):\n\u001b[1;32m   1083\u001b[0m     \u001b[39m# GH#43986 Need to do list(mapped) in order to get treated as nested\u001b[39;00m\n\u001b[1;32m   1084\u001b[0m     \u001b[39m#  See also GH#25959 regarding EA support\u001b[39;00m\n\u001b[1;32m   1085\u001b[0m     \u001b[39mreturn\u001b[39;00m obj\u001b[39m.\u001b[39m_constructor_expanddim(\u001b[39mlist\u001b[39m(mapped), index\u001b[39m=\u001b[39mobj\u001b[39m.\u001b[39mindex)\n",
      "File \u001b[0;32m/mnt/sdc/niallt/venvs/39nlp/lib/python3.9/site-packages/pandas/_libs/lib.pyx:2834\u001b[0m, in \u001b[0;36mpandas._libs.lib.map_infer\u001b[0;34m()\u001b[0m\n",
      "Cell \u001b[0;32mIn[65], line 1\u001b[0m, in \u001b[0;36m<lambda>\u001b[0;34m(x)\u001b[0m\n\u001b[0;32m----> 1\u001b[0m config_list \u001b[39m=\u001b[39m df[\u001b[39m\"\u001b[39m\u001b[39mdir_name\u001b[39m\u001b[39m\"\u001b[39m]\u001b[39m.\u001b[39mdrop_duplicates()\u001b[39m.\u001b[39mapply(\u001b[39mlambda\u001b[39;00m x: get_configs(x))\n\u001b[1;32m      2\u001b[0m config_df \u001b[39m=\u001b[39m pd\u001b[39m.\u001b[39mDataFrame\u001b[39m.\u001b[39mfrom_records(config_list)\n\u001b[1;32m      3\u001b[0m df \u001b[39m=\u001b[39m pd\u001b[39m.\u001b[39mmerge(df, config_df, on\u001b[39m=\u001b[39m\u001b[39m'\u001b[39m\u001b[39mdir_name\u001b[39m\u001b[39m'\u001b[39m)\n",
      "Cell \u001b[0;32mIn[64], line 2\u001b[0m, in \u001b[0;36mget_configs\u001b[0;34m(modeldir)\u001b[0m\n\u001b[1;32m      1\u001b[0m \u001b[39mdef\u001b[39;00m \u001b[39mget_configs\u001b[39m(modeldir):\n\u001b[0;32m----> 2\u001b[0m     \u001b[39mwith\u001b[39;00m \u001b[39mopen\u001b[39;49m(logdir \u001b[39m+\u001b[39;49m modeldir \u001b[39m+\u001b[39;49m \u001b[39m'\u001b[39;49m\u001b[39m/config.yaml\u001b[39;49m\u001b[39m'\u001b[39;49m) \u001b[39mas\u001b[39;00m f:\n\u001b[1;32m      3\u001b[0m         configs\u001b[39m=\u001b[39m yaml\u001b[39m.\u001b[39mload(f, Loader\u001b[39m=\u001b[39myaml\u001b[39m.\u001b[39mFullLoader)\n\u001b[1;32m      4\u001b[0m     configs[\u001b[39m'\u001b[39m\u001b[39mdir_name\u001b[39m\u001b[39m'\u001b[39m] \u001b[39m=\u001b[39m modeldir\n",
      "File \u001b[0;32m/mnt/sdc/niallt/venvs/39nlp/lib/python3.9/site-packages/IPython/core/interactiveshell.py:284\u001b[0m, in \u001b[0;36m_modified_open\u001b[0;34m(file, *args, **kwargs)\u001b[0m\n\u001b[1;32m    277\u001b[0m \u001b[39mif\u001b[39;00m file \u001b[39min\u001b[39;00m {\u001b[39m0\u001b[39m, \u001b[39m1\u001b[39m, \u001b[39m2\u001b[39m}:\n\u001b[1;32m    278\u001b[0m     \u001b[39mraise\u001b[39;00m \u001b[39mValueError\u001b[39;00m(\n\u001b[1;32m    279\u001b[0m         \u001b[39mf\u001b[39m\u001b[39m\"\u001b[39m\u001b[39mIPython won\u001b[39m\u001b[39m'\u001b[39m\u001b[39mt let you open fd=\u001b[39m\u001b[39m{\u001b[39;00mfile\u001b[39m}\u001b[39;00m\u001b[39m by default \u001b[39m\u001b[39m\"\u001b[39m\n\u001b[1;32m    280\u001b[0m         \u001b[39m\"\u001b[39m\u001b[39mas it is likely to crash IPython. If you know what you are doing, \u001b[39m\u001b[39m\"\u001b[39m\n\u001b[1;32m    281\u001b[0m         \u001b[39m\"\u001b[39m\u001b[39myou can use builtins\u001b[39m\u001b[39m'\u001b[39m\u001b[39m open.\u001b[39m\u001b[39m\"\u001b[39m\n\u001b[1;32m    282\u001b[0m     )\n\u001b[0;32m--> 284\u001b[0m \u001b[39mreturn\u001b[39;00m io_open(file, \u001b[39m*\u001b[39;49margs, \u001b[39m*\u001b[39;49m\u001b[39m*\u001b[39;49mkwargs)\n",
      "\u001b[0;31mFileNotFoundError\u001b[0m: [Errno 2] No such file or directory: '/mnt/sdd/efficient_ml_data/saved_models/peft/logs/i2b2-2012-NER/full/distil-biobert/LORA/13-07-2023--16-09/config.yaml'"
     ]
    }
   ],
   "source": [
    "config_list = df[\"dir_name\"].drop_duplicates().apply(lambda x: get_configs(x))\n",
    "config_df = pd.DataFrame.from_records(config_list)\n",
    "df = pd.merge(df, config_df, on='dir_name')"
   ]
  },
  {
   "cell_type": "code",
   "execution_count": 57,
   "metadata": {},
   "outputs": [
    {
     "data": {
      "text/plain": [
       "0       LORA\n",
       "1       LORA\n",
       "2       LORA\n",
       "3       LORA\n",
       "4       LORA\n",
       "        ... \n",
       "5995    LORA\n",
       "5996    LORA\n",
       "5997    LORA\n",
       "5998    LORA\n",
       "5999    LORA\n",
       "Name: peft_method, Length: 6000, dtype: object"
      ]
     },
     "execution_count": 57,
     "metadata": {},
     "output_type": "execute_result"
    }
   ],
   "source": [
    "df.peft_method"
   ]
  },
  {
   "cell_type": "code",
   "execution_count": 19,
   "metadata": {},
   "outputs": [],
   "source": [
    "with open(logdir + 'config.yaml') as f:\n",
    "    config = yaml.load(f, Loader=yaml.FullLoader)"
   ]
  },
  {
   "cell_type": "code",
   "execution_count": 20,
   "metadata": {},
   "outputs": [
    {
     "data": {
      "text/plain": [
       "{'cache_dir': None,\n",
       " 'ckpt_save_dir': '/mnt/sdd/efficient_ml_data/saved_models/peft/ckpts',\n",
       " 'combined_val_test_sets': False,\n",
       " 'data_dir': '',\n",
       " 'dropout': 0.1,\n",
       " 'eight_bit_training': False,\n",
       " 'eval_batch_size': 32,\n",
       " 'eval_data_dir': '/mnt/sdd/efficient_ml_data/datasets/mimic3-clinical-outcomes/los',\n",
       " 'eval_every_steps': 100,\n",
       " 'eval_few_shot_n': 128,\n",
       " 'evaluation_strategy': 'epoch',\n",
       " 'fast_dev_run': False,\n",
       " 'few_shot_n': None,\n",
       " 'label_col': 'label',\n",
       " 'label_name': 'los_label',\n",
       " 'loader_workers': 24,\n",
       " 'log_every_steps': 10,\n",
       " 'log_save_dir': '/mnt/sdd/efficient_ml_data/saved_models/peft/logs',\n",
       " 'max_epochs': 5,\n",
       " 'max_length': 480,\n",
       " 'metric_mode': 'max',\n",
       " 'model_name_or_path': 'roberta-base',\n",
       " 'monitor': 'monitor_balanced_accuracy',\n",
       " 'no_cuda': False,\n",
       " 'optimizer': 'adamw',\n",
       " 'patience': 4,\n",
       " 'peft_method': 'LORA',\n",
       " 'pretrained_models_dir': '',\n",
       " 'remove_columns': ['text'],\n",
       " 'save_every_steps': 100,\n",
       " 'saving_strategy': 'steps',\n",
       " 'sensitivity': False,\n",
       " 'task': 'mimic-los',\n",
       " 'task_to_keys': {'cola': ('sentence', None),\n",
       "  'icd9-triage': ('text', None),\n",
       "  'icd9-triage-no-category-in-text': ('text', None),\n",
       "  'mimic-los': ('text', None),\n",
       "  'mimic-note-category': ('TEXT', None),\n",
       "  'mnli': ('premise', 'hypothesis'),\n",
       "  'mnli-mm': ('premise', 'hypothesis'),\n",
       "  'mrpc': ('sentence1', 'sentence2'),\n",
       "  'qnli': ('question', 'sentence'),\n",
       "  'qqp': ('question1', 'question2'),\n",
       "  'rte': ('sentence1', 'sentence2'),\n",
       "  'sst2': ('sentence', None),\n",
       "  'stsb': ('sentence1', 'sentence2'),\n",
       "  'wnli': ('sentence1', 'sentence2')},\n",
       " 'task_type': 'SEQ_CLS',\n",
       " 'test_file': 'LOS_WEEKS_adm_test.csv',\n",
       " 'text_col': 'text',\n",
       " 'text_column': 'text',\n",
       " 'train_batch_size': 32,\n",
       " 'training_data_dir': '/mnt/sdd/efficient_ml_data/datasets/mimic3-clinical-outcomes/los',\n",
       " 'training_file': 'train.csv',\n",
       " 'validation_file': 'valid.csv',\n",
       " 'warmup_steps': 100}"
      ]
     },
     "execution_count": 20,
     "metadata": {},
     "output_type": "execute_result"
    }
   ],
   "source": [
    "config"
   ]
  }
 ],
 "metadata": {
  "kernelspec": {
   "display_name": "39nlp",
   "language": "python",
   "name": "python3"
  },
  "language_info": {
   "codemirror_mode": {
    "name": "ipython",
    "version": 3
   },
   "file_extension": ".py",
   "mimetype": "text/x-python",
   "name": "python",
   "nbconvert_exporter": "python",
   "pygments_lexer": "ipython3",
   "version": "3.9.16"
  },
  "orig_nbformat": 4
 },
 "nbformat": 4,
 "nbformat_minor": 2
}
