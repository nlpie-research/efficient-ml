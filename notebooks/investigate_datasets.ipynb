{
 "cells": [
  {
   "cell_type": "code",
   "execution_count": 1,
   "metadata": {},
   "outputs": [],
   "source": [
    "from datasets import load_dataset, load_from_disk, concatenate_datasets\n",
    "import numpy as np\n",
    "import pandas as pd"
   ]
  },
  {
   "attachments": {},
   "cell_type": "markdown",
   "metadata": {},
   "source": [
    "#### MedNLI Dataset"
   ]
  },
  {
   "cell_type": "code",
   "execution_count": 2,
   "metadata": {},
   "outputs": [],
   "source": [
    "# local path\n",
    "mednli_data_dir = \"/mnt/sdd/niallt/mednli/hf_dataset/\""
   ]
  },
  {
   "cell_type": "code",
   "execution_count": 3,
   "metadata": {},
   "outputs": [],
   "source": [
    "mednli_dataset = load_from_disk(mednli_data_dir)"
   ]
  },
  {
   "cell_type": "code",
   "execution_count": 4,
   "metadata": {},
   "outputs": [
    {
     "data": {
      "text/plain": [
       "DatasetDict({\n",
       "    train: Dataset({\n",
       "        features: ['pairID', 'gold_label', 'sentence1', 'sentence2', 'sentence1_parse', 'sentence2_parse', 'sentence1_binary_parse', 'sentence2_binary_parse'],\n",
       "        num_rows: 11232\n",
       "    })\n",
       "    test: Dataset({\n",
       "        features: ['pairID', 'gold_label', 'sentence1', 'sentence2', 'sentence1_parse', 'sentence2_parse', 'sentence1_binary_parse', 'sentence2_binary_parse'],\n",
       "        num_rows: 1422\n",
       "    })\n",
       "    validation: Dataset({\n",
       "        features: ['pairID', 'gold_label', 'sentence1', 'sentence2', 'sentence1_parse', 'sentence2_parse', 'sentence1_binary_parse', 'sentence2_binary_parse'],\n",
       "        num_rows: 1395\n",
       "    })\n",
       "})"
      ]
     },
     "execution_count": 4,
     "metadata": {},
     "output_type": "execute_result"
    }
   ],
   "source": [
    "mednli_dataset"
   ]
  },
  {
   "cell_type": "code",
   "execution_count": 5,
   "metadata": {},
   "outputs": [
    {
     "data": {
      "text/plain": [
       "{'pairID': '23eb94b8-66c7-11e7-a8dc-f45c89b91419',\n",
       " 'gold_label': 'entailment',\n",
       " 'sentence1': 'Labs were notable for Cr 1.7 (baseline 0.5 per old records) and lactate 2.4.',\n",
       " 'sentence2': ' Patient has elevated Cr',\n",
       " 'sentence1_parse': '(ROOT (S (NP (NNPS Labs)) (VP (VBD were) (ADJP (JJ notable) (PP (IN for) (NP (NP (NP (NN Cr) (CD 1.7)) (PRN (-LRB- -LRB-) (NP (NP (NN baseline) (CD 0.5)) (PP (IN per) (NP (JJ old) (NNS records)))) (-RRB- -RRB-))) (CC and) (NP (NN lactate) (CD 2.4)))))) (. .)))',\n",
       " 'sentence2_parse': '(ROOT (S (NP (NN Patient)) (VP (VBZ has) (NP (JJ elevated) (NN Cr)))))',\n",
       " 'sentence1_binary_parse': '( Labs ( ( were ( notable ( for ( ( ( ( Cr 1.7 ) ( -LRB- ( ( ( baseline 0.5 ) ( per ( old records ) ) ) -RRB- ) ) ) and ) ( lactate 2.4 ) ) ) ) ) . ) )',\n",
       " 'sentence2_binary_parse': '( Patient ( has ( elevated Cr ) ) )'}"
      ]
     },
     "execution_count": 5,
     "metadata": {},
     "output_type": "execute_result"
    }
   ],
   "source": [
    "mednli_dataset[\"train\"][0]"
   ]
  },
  {
   "cell_type": "code",
   "execution_count": null,
   "metadata": {},
   "outputs": [],
   "source": [
    "# from nlpie group"
   ]
  },
  {
   "cell_type": "code",
   "execution_count": 5,
   "metadata": {},
   "outputs": [],
   "source": [
    "nlpie_mednli_data_dir = \"/mnt/sdd/niallt/mednli/nlpie_hf_dataset/MedNLI/\""
   ]
  },
  {
   "cell_type": "code",
   "execution_count": 6,
   "metadata": {},
   "outputs": [],
   "source": [
    "nlpie_mednli_dataset = load_from_disk(nlpie_mednli_data_dir)"
   ]
  },
  {
   "cell_type": "code",
   "execution_count": 7,
   "metadata": {},
   "outputs": [
    {
     "data": {
      "text/plain": [
       "DatasetDict({\n",
       "    train: Dataset({\n",
       "        features: ['sentence1', 'sentence2', 'labels'],\n",
       "        num_rows: 11232\n",
       "    })\n",
       "    validation: Dataset({\n",
       "        features: ['sentence1', 'sentence2', 'labels'],\n",
       "        num_rows: 1395\n",
       "    })\n",
       "    test: Dataset({\n",
       "        features: ['sentence1', 'sentence2', 'labels'],\n",
       "        num_rows: 1422\n",
       "    })\n",
       "})"
      ]
     },
     "execution_count": 7,
     "metadata": {},
     "output_type": "execute_result"
    }
   ],
   "source": [
    "nlpie_mednli_dataset"
   ]
  },
  {
   "cell_type": "code",
   "execution_count": 11,
   "metadata": {},
   "outputs": [
    {
     "data": {
      "text/plain": [
       "{'sentence1': 'Labs were notable for Cr 1.7 (baseline 0.5 per old records) and lactate 2.4.',\n",
       " 'sentence2': ' Patient has elevated Cr',\n",
       " 'labels': 2}"
      ]
     },
     "execution_count": 11,
     "metadata": {},
     "output_type": "execute_result"
    }
   ],
   "source": [
    "nlpie_mednli_dataset[\"train\"][0]"
   ]
  },
  {
   "cell_type": "code",
   "execution_count": 21,
   "metadata": {},
   "outputs": [
    {
     "data": {
      "text/plain": [
       "labels\n",
       "2    474\n",
       "0    474\n",
       "1    474\n",
       "Name: count, dtype: int64"
      ]
     },
     "execution_count": 21,
     "metadata": {},
     "output_type": "execute_result"
    }
   ],
   "source": [
    "# get value counts of each label in each dataset\n",
    "\n",
    "nlpie_mednli_dataset[\"test\"].to_pandas().labels.value_counts()"
   ]
  },
  {
   "attachments": {},
   "cell_type": "markdown",
   "metadata": {},
   "source": [
    "### i2b2 2010\n"
   ]
  },
  {
   "cell_type": "code",
   "execution_count": 10,
   "metadata": {},
   "outputs": [],
   "source": [
    "i2b2_2010_data_dir = \"/mnt/sdd/niallt/bio-lm/data/tasks/I2B22010NER_hf_dataset/\"\n",
    "i2b2_2010_dataset = load_from_disk(i2b2_2010_data_dir)"
   ]
  },
  {
   "cell_type": "code",
   "execution_count": 11,
   "metadata": {},
   "outputs": [
    {
     "data": {
      "text/plain": [
       "{'tokens': ['The',\n",
       "  'patient',\n",
       "  '&apos;s',\n",
       "  'sister',\n",
       "  'has',\n",
       "  'a',\n",
       "  'history',\n",
       "  'of',\n",
       "  'cervical',\n",
       "  'cancer',\n",
       "  '.'],\n",
       " 'ner_tags_str': ['O',\n",
       "  'O',\n",
       "  'O',\n",
       "  'O',\n",
       "  'O',\n",
       "  'O',\n",
       "  'O',\n",
       "  'O',\n",
       "  'B-problem',\n",
       "  'I-problem',\n",
       "  'O'],\n",
       " 'ner_tags': [6, 6, 6, 6, 6, 6, 6, 6, 1, 5, 6]}"
      ]
     },
     "execution_count": 11,
     "metadata": {},
     "output_type": "execute_result"
    }
   ],
   "source": [
    "i2b2_2010_dataset[\"train\"][50]"
   ]
  },
  {
   "cell_type": "code",
   "execution_count": null,
   "metadata": {},
   "outputs": [],
   "source": []
  },
  {
   "attachments": {},
   "cell_type": "markdown",
   "metadata": {},
   "source": [
    "## I2B2_2010_Relation Extraction\n"
   ]
  },
  {
   "cell_type": "code",
   "execution_count": 8,
   "metadata": {},
   "outputs": [],
   "source": [
    "i2b2_2010_RE_data_dir = \"/mnt/sdd/niallt/i2b2_2010_RE/hf_dataset/i2b2-2010-RE/\""
   ]
  },
  {
   "cell_type": "code",
   "execution_count": 9,
   "metadata": {},
   "outputs": [],
   "source": [
    "i2b2_2010_RE_dataset = load_from_disk(i2b2_2010_RE_data_dir)"
   ]
  },
  {
   "cell_type": "code",
   "execution_count": 10,
   "metadata": {},
   "outputs": [
    {
     "data": {
      "text/plain": [
       "DatasetDict({\n",
       "    train: Dataset({\n",
       "        features: ['sentence', 'labels'],\n",
       "        num_rows: 22256\n",
       "    })\n",
       "    validation: Dataset({\n",
       "        features: ['sentence', 'labels'],\n",
       "        num_rows: 43000\n",
       "    })\n",
       "})"
      ]
     },
     "execution_count": 10,
     "metadata": {},
     "output_type": "execute_result"
    }
   ],
   "source": [
    "i2b2_2010_RE_dataset"
   ]
  },
  {
   "cell_type": "code",
   "execution_count": 15,
   "metadata": {},
   "outputs": [
    {
     "data": {
      "text/plain": [
       "{'sentence': 'carduac enzymes mildly elevated , felt 02-08 @problem$ in setting of @problem$ , CK and MB trended Mcewen at time of admission to medical floor .',\n",
       " 'labels': 0}"
      ]
     },
     "execution_count": 15,
     "metadata": {},
     "output_type": "execute_result"
    }
   ],
   "source": [
    "i2b2_2010_RE_dataset[\"train\"][0]"
   ]
  },
  {
   "attachments": {},
   "cell_type": "markdown",
   "metadata": {},
   "source": [
    "# i2b2 2012"
   ]
  },
  {
   "cell_type": "code",
   "execution_count": 16,
   "metadata": {},
   "outputs": [],
   "source": [
    "i2b2_2012_data_dir = \"/mnt/sdd/niallt/bio-lm/data/tasks/i2b2-2012_hf_dataset/\""
   ]
  },
  {
   "cell_type": "code",
   "execution_count": 21,
   "metadata": {},
   "outputs": [],
   "source": [
    "i2b2_2012_dataset = load_from_disk(i2b2_2012_data_dir)"
   ]
  },
  {
   "cell_type": "code",
   "execution_count": 23,
   "metadata": {},
   "outputs": [
    {
     "data": {
      "text/plain": [
       "{'tokens': ['Admission', 'Date', ':'],\n",
       " 'ner_tags_str': ['B-OCCURRENCE', 'O', 'O'],\n",
       " 'ner_tags': [11, 0, 0]}"
      ]
     },
     "execution_count": 23,
     "metadata": {},
     "output_type": "execute_result"
    }
   ],
   "source": [
    "i2b2_2012_dataset['train'][0]"
   ]
  },
  {
   "attachments": {},
   "cell_type": "markdown",
   "metadata": {},
   "source": [
    "# 2014 i2b2"
   ]
  },
  {
   "cell_type": "code",
   "execution_count": 19,
   "metadata": {},
   "outputs": [],
   "source": [
    "i2b2_2014_data_dir = \"/mnt/sdd/niallt/bio-lm/data/tasks/i2b2-2014_hf_dataset/\""
   ]
  },
  {
   "cell_type": "code",
   "execution_count": 53,
   "metadata": {},
   "outputs": [],
   "source": [
    "i2b2_2014_dataset = load_from_disk(i2b2_2014_data_dir)"
   ]
  },
  {
   "cell_type": "code",
   "execution_count": 55,
   "metadata": {},
   "outputs": [
    {
     "data": {
      "text/plain": [
       "{'tokens': ['Record', 'date:', '2081-10-18'],\n",
       " 'ner_tags_str': ['O', 'O', 'B-DATE'],\n",
       " 'ner_tags': [39, 39, 17]}"
      ]
     },
     "execution_count": 55,
     "metadata": {},
     "output_type": "execute_result"
    }
   ],
   "source": [
    "i2b2_2014_dataset['train'][0]"
   ]
  },
  {
   "cell_type": "markdown",
   "metadata": {},
   "source": [
    "# clinical outcomes datasets"
   ]
  },
  {
   "cell_type": "code",
   "execution_count": 2,
   "metadata": {},
   "outputs": [],
   "source": [
    "clinical_outcomes_dir = \"/mnt/sdd/efficient_ml_data/datasets/mimic3-clinical-outcomes/\""
   ]
  },
  {
   "cell_type": "markdown",
   "metadata": {},
   "source": [
    "## LoS "
   ]
  },
  {
   "cell_type": "code",
   "execution_count": 3,
   "metadata": {},
   "outputs": [],
   "source": [
    "los_data_dir = f\"{clinical_outcomes_dir}/los/\""
   ]
  },
  {
   "cell_type": "code",
   "execution_count": 5,
   "metadata": {},
   "outputs": [],
   "source": [
    "# there are seemingly several train/valid files\n",
    "los_df = pd.read_csv(f\"{los_data_dir}/LOS_WEEKS_adm_train.csv\")"
   ]
  },
  {
   "cell_type": "code",
   "execution_count": 10,
   "metadata": {},
   "outputs": [
    {
     "data": {
      "text/plain": [
       "(       id                                               text  los_label\n",
       " 0  155297  CHIEF COMPLAINT: Decreased responsiveness  Maj...          0\n",
       " 1  168150  CHIEF COMPLAINT: Fatigue, wide complex tachyca...          1\n",
       " 2  154015  CHIEF COMPLAINT: preop CABG\\n\\nPRESENT ILLNESS...          2\n",
       " 3  145268  CHIEF COMPLAINT: \\n\\nPRESENT ILLNESS: This is ...          1\n",
       " 4  170521  CHIEF COMPLAINT: worsening shortness of breath...          2,\n",
       " (30421, 3))"
      ]
     },
     "execution_count": 10,
     "metadata": {},
     "output_type": "execute_result"
    }
   ],
   "source": [
    "los_df.head(), los_df.shape"
   ]
  },
  {
   "cell_type": "code",
   "execution_count": 7,
   "metadata": {},
   "outputs": [],
   "source": [
    "los_train_df = pd.read_csv(f\"{los_data_dir}/train.csv\")"
   ]
  },
  {
   "cell_type": "code",
   "execution_count": 9,
   "metadata": {},
   "outputs": [
    {
     "data": {
      "text/plain": [
       "(       id                                               text  los_label\n",
       " 0  155297  CHIEF COMPLAINT: Decreased responsiveness  Maj...          0\n",
       " 1  168150  CHIEF COMPLAINT: Fatigue, wide complex tachyca...          1\n",
       " 2  154015  CHIEF COMPLAINT: preop CABG\\n\\nPRESENT ILLNESS...          2\n",
       " 3  145268  CHIEF COMPLAINT: \\n\\nPRESENT ILLNESS: This is ...          1\n",
       " 4  170521  CHIEF COMPLAINT: worsening shortness of breath...          2,\n",
       " (30421, 3))"
      ]
     },
     "execution_count": 9,
     "metadata": {},
     "output_type": "execute_result"
    }
   ],
   "source": [
    "los_train_df.head(), los_train_df.shape"
   ]
  },
  {
   "cell_type": "code",
   "execution_count": 6,
   "metadata": {},
   "outputs": [
    {
     "name": "stdout",
     "output_type": "stream",
     "text": [
      "Downloading and preparing dataset csv/default to /home/niallt/.cache/huggingface/datasets/csv/default-85b93545fbaf13bc/0.0.0/6954658bab30a358235fa864b05cf819af0e179325c740e4bc853bcc7ec513e1...\n"
     ]
    },
    {
     "data": {
      "application/vnd.jupyter.widget-view+json": {
       "model_id": "914cb9a6fbdc44c1a9af7d48ac197700",
       "version_major": 2,
       "version_minor": 0
      },
      "text/plain": [
       "Downloading data files:   0%|          | 0/3 [00:00<?, ?it/s]"
      ]
     },
     "metadata": {},
     "output_type": "display_data"
    },
    {
     "data": {
      "application/vnd.jupyter.widget-view+json": {
       "model_id": "f142c9e1a4354b12a9062dbfbf51ca0f",
       "version_major": 2,
       "version_minor": 0
      },
      "text/plain": [
       "Extracting data files:   0%|          | 0/3 [00:00<?, ?it/s]"
      ]
     },
     "metadata": {},
     "output_type": "display_data"
    },
    {
     "data": {
      "application/vnd.jupyter.widget-view+json": {
       "model_id": "0a56d0f78f574988a007b5840e6953a3",
       "version_major": 2,
       "version_minor": 0
      },
      "text/plain": [
       "Generating train split: 0 examples [00:00, ? examples/s]"
      ]
     },
     "metadata": {},
     "output_type": "display_data"
    },
    {
     "data": {
      "application/vnd.jupyter.widget-view+json": {
       "model_id": "e1237530f49842e0a653104124f1dd06",
       "version_major": 2,
       "version_minor": 0
      },
      "text/plain": [
       "Generating validation split: 0 examples [00:00, ? examples/s]"
      ]
     },
     "metadata": {},
     "output_type": "display_data"
    },
    {
     "data": {
      "application/vnd.jupyter.widget-view+json": {
       "model_id": "4cf56c6e774c4bec8ea0c394e5946741",
       "version_major": 2,
       "version_minor": 0
      },
      "text/plain": [
       "Generating test split: 0 examples [00:00, ? examples/s]"
      ]
     },
     "metadata": {},
     "output_type": "display_data"
    },
    {
     "name": "stdout",
     "output_type": "stream",
     "text": [
      "Dataset csv downloaded and prepared to /home/niallt/.cache/huggingface/datasets/csv/default-85b93545fbaf13bc/0.0.0/6954658bab30a358235fa864b05cf819af0e179325c740e4bc853bcc7ec513e1. Subsequent calls will reuse this data.\n"
     ]
    },
    {
     "data": {
      "application/vnd.jupyter.widget-view+json": {
       "model_id": "ad425790344b4c4491bbe2a0ecba7645",
       "version_major": 2,
       "version_minor": 0
      },
      "text/plain": [
       "  0%|          | 0/3 [00:00<?, ?it/s]"
      ]
     },
     "metadata": {},
     "output_type": "display_data"
    }
   ],
   "source": [
    "los_dataset =  load_dataset(\"csv\", \n",
    "                        data_files = {\"train\":f\"{los_data_dir}/train.csv\",\n",
    "                                      \"validation\":f\"{los_data_dir}/valid.csv\",\n",
    "                                      \"test\":f\"{los_data_dir}/test.csv\"},)\n"
   ]
  },
  {
   "cell_type": "code",
   "execution_count": 7,
   "metadata": {},
   "outputs": [
    {
     "data": {
      "text/plain": [
       "DatasetDict({\n",
       "    train: Dataset({\n",
       "        features: ['id', 'text', 'los_label'],\n",
       "        num_rows: 30421\n",
       "    })\n",
       "    validation: Dataset({\n",
       "        features: ['id', 'text', 'los_label'],\n",
       "        num_rows: 4391\n",
       "    })\n",
       "    test: Dataset({\n",
       "        features: ['id', 'text', 'los_label'],\n",
       "        num_rows: 8797\n",
       "    })\n",
       "})"
      ]
     },
     "execution_count": 7,
     "metadata": {},
     "output_type": "execute_result"
    }
   ],
   "source": [
    "los_dataset"
   ]
  },
  {
   "cell_type": "code",
   "execution_count": 8,
   "metadata": {},
   "outputs": [
    {
     "data": {
      "text/plain": [
       "{'id': 155297,\n",
       " 'text': 'CHIEF COMPLAINT: Decreased responsiveness  Major [**First Name3 (LF) 2947**] or Invasive Procedure: Femoral central line\\n\\nPRESENT ILLNESS: 65M with PMHx of CVA (nonverbal and does not move his arms or legs at baseline), Afib on coumadin, multiple pneumonias (s/p trach/PEG [**3-/2200**]), multiple UTI/urosepsis with Proteus sensitive to Cefepime/ceftriaxone/meropenem, ESBL Klebsiella sensitive to cipro/meropenem/zosyn, C diff s/p colectomy, type 2 diabetes mellitus, peripheral vascular disease.  Patient presents from [**Hospital1 1501**] found today with sats 80s and not responding to commands, not nodding. Baseline non-verbal, but will nod to questions.  In ED, BPs dipped to high 80s, low 90s. Patient with a trach, seems to have a cuff [**Last Name (LF) 3564**], [**First Name3 (LF) **] need to be changed out. UA positive. Given cefepime and vanco. Trop may be demand. Given 2L NS.\\n\\nMEDICAL HISTORY: * Hypertension * Hypothyroidism * H/o CVA (bilateral embolic cerebellar [**2188**], hemorrhagic left thalamic [**2190**]) * Type II Diabetes mellitus * Peripheral neuropathy * Depression * h/o DVT (? - no [**Hospital1 18**] records) * Atrial fibrillation (on coumadin) * Peripheral vascular disease * Hyperlipidemia * Anemia of chronic disease * Tracheostomy and GJ tube for chronic aspiration ([**3-/2200**]) - Portex Bivono, Size 6.0 * C.diff colitis in [**1-29**] requiring total abdominal colectomy with end ileostomy [**1-29**], repeat positive C diff toxin [**2200-5-20**] (outside facility, [**12/2198**] here)\\n\\nMEDICATION ON ADMISSION: 1. albuterol sulfate 2.5 mg /3 mL (0.083 %) nebs q6H 2. ipratropium bromide 0.02 % nebs q6H 3. baclofen 15mg PO QID 4. duloxetine 30 mg Capsule, Delayed Release(E.C.) PO BID 5. fentanyl 100 mcg/hr Patch q72hr 6. gabapentin 300 mg q8H 7. levothyroxine 25 mcg PO DAILY 8. mirtazapine 15 mg PO qHS 9. acetaminophen 650 mg/20.3 mL Solution PO Q6H prn pain 10. ascorbic acid 500 mg PO DAILY 11. miconazole nitrate 2 % Powder Appl Topical [**Hospital1 **] prn skin irritation 12. senna 8.6 mg PO BID prn constipation. 13. lansoprazole 30 mg Tablet,Rapid Dissolve DR [**Last Name (STitle) **] DAILY 14. bisacodyl 10 mg Tablet PO DAILY prn constipation. 15. ferrous sulfate 220 mg (44 mg iron)/5 mL Solution PO daily 16. albuterol sulfate 2.5 mg /3 mL (0.083 %) nebs q2H prn SOB 17. alum-mag hydroxide-simeth 200-200-20 mg/5 mL Suspension 15-30ml PO QID prn stomach upset. 18. meropenem 500 mg Recon Soln IV Q6H for 11 days (last day [**10-13**]) 19. docusate sodium 50 mg/5 mL Liquid 10ml PO qHS 20. enoxaparin 80 mg/0.8 mL Subcutaneous [**Hospital1 **] until INR is therapeuic 21. [**Hospital1 8472**] 100 unit/mL Solution 34 units qHS 22. Insulin Sliding Scale 23. warfarin 4 mg PO daily 24. acetylcysteine 20% (200 mg/mL) 1 QID 25. ipratropium bromide 0.02 % nebs q2h prn SOB 26. Milk of Magnesia 400 mg/5 mL 30 ml PO daily prn constipation 27. Glucerna Liquid [**Hospital1 **]: One (1) app PO once a day: 1.2 via feeding pump at 75 mL/hr.  Up at 2pm down at 10am. 28. multivitamin  PO daily 29. Novolin R 100 unit/mL Solution [**Hospital1 **]: per sliding scale Injection QAC.\\n\\nALLERGIES: No Known Allergies / Adverse Drug Reactions\\n\\nPHYSICAL EXAM: Admission exam: Vitals: HR 73, BP 87/53, RR 11, 93% trach mask General: Unresponsive, no respiratory distress.  No facial expression, not moving extremities HEENT: Sclera anicteric, MMM, oropharynx clear Neck: supple, JVP not elevated, no LAD Lungs: diffuse rhonchi from anterior lung fields.  No crackles.\\n\\nFAMILY HISTORY: Patient has a mother with diabetes and brother with heart disease.\\n\\nSOCIAL HISTORY: Prior resident of [**First Name4 (NamePattern1) 1188**] [**Last Name (NamePattern1) **], now at [**Hospital 16662**] Nursing Home. Family very involved in care. Patient does not take anything by mouth due to history of aspiration. Spanish-speaking. Patient is a former 60 pack year smoker but quit in [**2183**].',\n",
       " 'los_label': 0}"
      ]
     },
     "execution_count": 8,
     "metadata": {},
     "output_type": "execute_result"
    }
   ],
   "source": [
    "los_dataset[\"train\"][0]"
   ]
  },
  {
   "cell_type": "markdown",
   "metadata": {},
   "source": [
    "## Mortality Prediction"
   ]
  },
  {
   "cell_type": "code",
   "execution_count": 9,
   "metadata": {},
   "outputs": [],
   "source": [
    "mp_data_dir = f\"{clinical_outcomes_dir}/mp/\""
   ]
  },
  {
   "cell_type": "code",
   "execution_count": 10,
   "metadata": {},
   "outputs": [
    {
     "name": "stdout",
     "output_type": "stream",
     "text": [
      "Downloading and preparing dataset csv/default to /home/niallt/.cache/huggingface/datasets/csv/default-cc166c590192d179/0.0.0/6954658bab30a358235fa864b05cf819af0e179325c740e4bc853bcc7ec513e1...\n"
     ]
    },
    {
     "data": {
      "application/vnd.jupyter.widget-view+json": {
       "model_id": "2bc2faa942e44206adfea34eb418ae99",
       "version_major": 2,
       "version_minor": 0
      },
      "text/plain": [
       "Downloading data files:   0%|          | 0/3 [00:00<?, ?it/s]"
      ]
     },
     "metadata": {},
     "output_type": "display_data"
    },
    {
     "data": {
      "application/vnd.jupyter.widget-view+json": {
       "model_id": "a2f9729b3a8b4d36960a5754ec295c0d",
       "version_major": 2,
       "version_minor": 0
      },
      "text/plain": [
       "Extracting data files:   0%|          | 0/3 [00:00<?, ?it/s]"
      ]
     },
     "metadata": {},
     "output_type": "display_data"
    },
    {
     "data": {
      "application/vnd.jupyter.widget-view+json": {
       "model_id": "f5c9ef35ef3b48ff882cde7165ad67a1",
       "version_major": 2,
       "version_minor": 0
      },
      "text/plain": [
       "Generating train split: 0 examples [00:00, ? examples/s]"
      ]
     },
     "metadata": {},
     "output_type": "display_data"
    },
    {
     "data": {
      "application/vnd.jupyter.widget-view+json": {
       "model_id": "cf29dd5bf65a4735bbeea3120cfec845",
       "version_major": 2,
       "version_minor": 0
      },
      "text/plain": [
       "Generating validation split: 0 examples [00:00, ? examples/s]"
      ]
     },
     "metadata": {},
     "output_type": "display_data"
    },
    {
     "data": {
      "application/vnd.jupyter.widget-view+json": {
       "model_id": "ec6c68a2e2164b3db11885a287f6b9bf",
       "version_major": 2,
       "version_minor": 0
      },
      "text/plain": [
       "Generating test split: 0 examples [00:00, ? examples/s]"
      ]
     },
     "metadata": {},
     "output_type": "display_data"
    },
    {
     "name": "stdout",
     "output_type": "stream",
     "text": [
      "Dataset csv downloaded and prepared to /home/niallt/.cache/huggingface/datasets/csv/default-cc166c590192d179/0.0.0/6954658bab30a358235fa864b05cf819af0e179325c740e4bc853bcc7ec513e1. Subsequent calls will reuse this data.\n"
     ]
    },
    {
     "data": {
      "application/vnd.jupyter.widget-view+json": {
       "model_id": "3bff1533939140d4b14fb6119fd1219c",
       "version_major": 2,
       "version_minor": 0
      },
      "text/plain": [
       "  0%|          | 0/3 [00:00<?, ?it/s]"
      ]
     },
     "metadata": {},
     "output_type": "display_data"
    }
   ],
   "source": [
    "mp_dataset = load_dataset(\"csv\",\n",
    "                        data_files = {\"train\":f\"{mp_data_dir}/train.csv\",\n",
    "                                        \"validation\":f\"{mp_data_dir}/valid.csv\",\n",
    "                                        \"test\":f\"{mp_data_dir}/test.csv\"},)"
   ]
  },
  {
   "cell_type": "code",
   "execution_count": 11,
   "metadata": {},
   "outputs": [
    {
     "data": {
      "text/plain": [
       "DatasetDict({\n",
       "    train: Dataset({\n",
       "        features: ['id', 'text', 'hospital_expire_flag'],\n",
       "        num_rows: 33954\n",
       "    })\n",
       "    validation: Dataset({\n",
       "        features: ['id', 'text', 'hospital_expire_flag'],\n",
       "        num_rows: 4908\n",
       "    })\n",
       "    test: Dataset({\n",
       "        features: ['id', 'text', 'hospital_expire_flag'],\n",
       "        num_rows: 9822\n",
       "    })\n",
       "})"
      ]
     },
     "execution_count": 11,
     "metadata": {},
     "output_type": "execute_result"
    }
   ],
   "source": [
    "mp_dataset"
   ]
  },
  {
   "cell_type": "code",
   "execution_count": 12,
   "metadata": {},
   "outputs": [
    {
     "data": {
      "text/plain": [
       "{'id': 107384,\n",
       " 'text': 'CHIEF COMPLAINT: AMS, concern for toxic alcohol ingestion\\n\\nPRESENT ILLNESS: Mr. [**Known lastname 27389**] is a 39 year old man with h/o EtOH and polysubstance abuse, seizure disorder, who was found to be unresponsive while visiting his partner in the ICU earlier today. . The patient was visiting his partner in the ICU earlier today. He was awake and conversant in the morning with no acute complaints. He was noted to be sleeping on the floor, but walked to the chair by himself when he was awakened. Later in the afternoon, the patient was noted to still be asleep in the chair. He was unarousable with verbal stimuli or sternal rub, so he was taken down to the ED. . In the ED, the patient was initially altered, but was otherwise hemodynamically stable. No urine incontinence or e/o toxidromes. Labs notable for EtOH 86, Osms 366, anion gap 16, lactate 3.8. Utox positive for barbs, but Stox and Utox otherwise negative. Given high serum osmolar gap (60), toxicology was consulted for concern of toxic alcohol ingestion. Most likely isopropyl alcohol given osmolar gap with small anion gap (likely due to lactate) and access to CalStat in the hospital today. However, given a dose of Fomepizole 15mg/kg IVx1 in the ED for possible ethylene glycol vs methanol ingestion. Also given Diazepam 10mg x1 for EtOH withdrawal. EEG following, as the patient is enrolled in a study for AMS. Vitals prior to transfer: 97.5 103 120/60 22 RA 100% . On the floor, the patient is currently hungry and feels like he is going to withdraw. He is anxious and has some palpitations. No shortness of breath, chest pain. He denies ingesting anything today. He has had no PO intake x4 days.\\n\\nMEDICAL HISTORY: * Subdural hematoma ([**2204-4-12**]) from fall * Alcohol and polysubstance abuse * Hepatitis C virus infection * Mood disorder with multiple suicide attempts * ?PTSD, bipolar/anti-social personality/impulse/rage disorders  * Migraines * Chronic lower back pain * MVA s/p chest tube placement in [**2200**] * Seizure disorder since [**08**] yo, alcohol withdrawal seizures\\n\\nMEDICATION ON ADMISSION: Phenobarbital ?34.2mg PO TID Klonopin 2mg PO TID Folate 1mg PO daily MVI 1tab PO daily Thiamine 100mg PO daily\\n\\nALLERGIES: Gabapentin / Trazodone / Codeine\\n\\nPHYSICAL EXAM: On admission: Vitals: T: 95.9 BP: 123/84 P: 99 R: 18 O2: 94%RA General: Alert, oriented, no acute distress HEENT: Sclera anicteric, dry MM, oropharynx clear Neck: supple, JVP not elevated, no LAD Lungs: diminished breath sounds throughout R>L, no wheezes, rales, rhonchi CV: tachycardic, S1 + S2, no murmurs, rubs, gallops Abdomen: soft, non-tender, non-distended, bowel sounds present, no rebound tenderness or guarding, no organomegaly GU: no foley Ext: warm, well perfused, 2+ pulses, no clubbing, cyanosis or edema Neuro: aaox3, CNs [**2-23**] intact, strength and sensation grossly nl. . On discharge: [**Name (NI) 4650**] Pt allert and oriented, walking without difficulty, R knee with large effussion, exam otherwise unchanged\\n\\nFAMILY HISTORY: Father was an alcoholic.\\n\\nSOCIAL HISTORY: Stays with his girlfriend in [**Name (NI) **]. - Tobacco: +intermittent tobacco use - Alcohol: 1/5th daily of hard liquour, has been drinking since 9 yo, has h/o DTs and alcohol withdrawal seizures - Illicits: Past use of cocaine, heroin, opiates, benzodiazepines documented in [**Name (NI) **], but patient currently denying any of this.',\n",
       " 'hospital_expire_flag': 0}"
      ]
     },
     "execution_count": 12,
     "metadata": {},
     "output_type": "execute_result"
    }
   ],
   "source": [
    "mp_dataset[\"train\"][0]"
   ]
  },
  {
   "cell_type": "markdown",
   "metadata": {},
   "source": [
    "## proc"
   ]
  },
  {
   "cell_type": "code",
   "execution_count": 7,
   "metadata": {},
   "outputs": [],
   "source": [
    "mimic_proc_dir = f\"{clinical_outcomes_dir}/proc/\""
   ]
  },
  {
   "cell_type": "code",
   "execution_count": 9,
   "metadata": {},
   "outputs": [
    {
     "name": "stdout",
     "output_type": "stream",
     "text": [
      "Downloading and preparing dataset csv/default to /home/niallt/.cache/huggingface/datasets/csv/default-21bd43a7138cb822/0.0.0/6954658bab30a358235fa864b05cf819af0e179325c740e4bc853bcc7ec513e1...\n"
     ]
    },
    {
     "data": {
      "application/vnd.jupyter.widget-view+json": {
       "model_id": "665a6cacd6cb49b999c8622423966443",
       "version_major": 2,
       "version_minor": 0
      },
      "text/plain": [
       "Downloading data files:   0%|          | 0/3 [00:00<?, ?it/s]"
      ]
     },
     "metadata": {},
     "output_type": "display_data"
    },
    {
     "data": {
      "application/vnd.jupyter.widget-view+json": {
       "model_id": "dafcb2a4f9a845fe8dea6e68cdb7d053",
       "version_major": 2,
       "version_minor": 0
      },
      "text/plain": [
       "Extracting data files:   0%|          | 0/3 [00:00<?, ?it/s]"
      ]
     },
     "metadata": {},
     "output_type": "display_data"
    },
    {
     "data": {
      "application/vnd.jupyter.widget-view+json": {
       "model_id": "08c081d3c62148e9a43d0940c1a7cc89",
       "version_major": 2,
       "version_minor": 0
      },
      "text/plain": [
       "Generating train split: 0 examples [00:00, ? examples/s]"
      ]
     },
     "metadata": {},
     "output_type": "display_data"
    },
    {
     "data": {
      "application/vnd.jupyter.widget-view+json": {
       "model_id": "19977f7d49094665bfb64712bc495662",
       "version_major": 2,
       "version_minor": 0
      },
      "text/plain": [
       "Generating validation split: 0 examples [00:00, ? examples/s]"
      ]
     },
     "metadata": {},
     "output_type": "display_data"
    },
    {
     "data": {
      "application/vnd.jupyter.widget-view+json": {
       "model_id": "9b35eeeb834b4395809b821d5249c3dd",
       "version_major": 2,
       "version_minor": 0
      },
      "text/plain": [
       "Generating test split: 0 examples [00:00, ? examples/s]"
      ]
     },
     "metadata": {},
     "output_type": "display_data"
    },
    {
     "name": "stdout",
     "output_type": "stream",
     "text": [
      "Dataset csv downloaded and prepared to /home/niallt/.cache/huggingface/datasets/csv/default-21bd43a7138cb822/0.0.0/6954658bab30a358235fa864b05cf819af0e179325c740e4bc853bcc7ec513e1. Subsequent calls will reuse this data.\n"
     ]
    },
    {
     "data": {
      "application/vnd.jupyter.widget-view+json": {
       "model_id": "e238765aa6bd430aa8ef6734d70821dc",
       "version_major": 2,
       "version_minor": 0
      },
      "text/plain": [
       "  0%|          | 0/3 [00:00<?, ?it/s]"
      ]
     },
     "metadata": {},
     "output_type": "display_data"
    }
   ],
   "source": [
    "proc_dataset = load_dataset(\"csv\",\n",
    "                        data_files = {\"train\":f\"{mimic_proc_dir}/PRO_GROUPS_3_DIGITS_train.csv\",\n",
    "                                        \"validation\":f\"{mimic_proc_dir}/PRO_GROUPS_3_DIGITS_val.csv\",\n",
    "                                        \"test\":f\"{mimic_proc_dir}/PRO_GROUPS_3_DIGITS_test.csv\"},)"
   ]
  },
  {
   "cell_type": "code",
   "execution_count": 10,
   "metadata": {},
   "outputs": [
    {
     "data": {
      "text/plain": [
       "DatasetDict({\n",
       "    train: Dataset({\n",
       "        features: ['id', 'text', 'short_codes'],\n",
       "        num_rows: 30073\n",
       "    })\n",
       "    validation: Dataset({\n",
       "        features: ['id', 'text', 'short_codes'],\n",
       "        num_rows: 4368\n",
       "    })\n",
       "    test: Dataset({\n",
       "        features: ['id', 'text', 'short_codes'],\n",
       "        num_rows: 8693\n",
       "    })\n",
       "})"
      ]
     },
     "execution_count": 10,
     "metadata": {},
     "output_type": "execute_result"
    }
   ],
   "source": [
    "proc_dataset"
   ]
  },
  {
   "cell_type": "code",
   "execution_count": 13,
   "metadata": {},
   "outputs": [
    {
     "data": {
      "text/plain": [
       "{'id': 137014,\n",
       " 'text': 'Unit No:  [**Numeric Identifier 60728**]\\nAdmission Date: [**2118-4-18**]\\nDischarge Date: [**2118-4-25**]\\nDate of Birth:  [**2066-7-21**]\\nSex:  F\\nService:  CSU\\n\\n\\nHISTORY OF PRESENT ILLNESS:  This 51-year-old female had an\\naortic valvuloplasty performed via a sternotomy in [**2093**] at\\n[**Hospital3 1810**] with a known diagnostic of bicuspid\\naortic valve and complaints of increasing fatigue and\\ndecreasing exercise tolerance over the past year. She had\\nbeen followed by cardiologists, Dr. [**First Name8 (NamePattern2) **] [**Last Name (NamePattern1) 1924**] and Dr. [**Last Name (STitle) 60729**]\\n[**Name (STitle) 60730**] at [**Hospital3 1810**]. Recently, echocardiogram and\\ncath were performed which revealed severe aortic stenosis.\\nPreoperatively, a cardiac cath was performed at [**Hospital **]\\nHospital. It showed normal coronaries and aortic valve area\\nof 0.6 cm to 0.8 cm2, and a gradient of 60 mmHg. Cardiac echo\\nperformed on [**2118-3-24**] showed a bicuspid aortic valve\\nwith a gradient of 103 mmHg, normal LV function, normal\\nsinus, normal aortic root, and no aortic regurgitation. Her\\nascending aorta was 3.9 cm.\\n\\nPAST MEDICAL HISTORY:\\n1. Aortic valvuloplasty in [**2093**].\\n2. Prior surgical history also includes inguinal\\n   herniorrhaphy on the right in [**2109**].\\n3. Tonsillectomy and adenoidectomy as a child.\\n4. Laparotomy in [**2104**].\\n\\n\\nMEDICATIONS PRIOR TO ADMISSION:\\n1. Calcium and Vitamin D daily.\\n2. Multivitamin 1 daily.\\n3. Antibiotics p.r.n. for dental procedures.\\n\\n\\nALLERGIES:  No known drug allergies.\\n\\nFAMILY HISTORY:  Noncontributory.\\n\\nSOCIAL HISTORY:  She lives with her husband and works as a\\nhousewife. She had a dental exam in [**2118-1-25**]. She has no\\ntobacco history. Consumed 1 glass of wine periodically. She\\nhad no history of other recreational drugs.\\n\\nPREOP LAB WORK:  White count 7.5, hematocrit 41.8, platelet\\ncount 330,000, PT 12.1, PTT 27.7, INR 1.0. Urinalysis\\nnegative. Sodium 142, K 3.8, chloride 101, bicarb 31, BUN 14,\\ncreatinine 0.8, blood sugar 79, HPA1C of 5.2%. ALT 17, AST\\n20, alkaline phosphatase 73, total bilirubin 0.5, total\\nprotein 7.1, albumin 4.8, globulin 2.3. Preop chest x-ray\\nshowed prior median sternotomy with a tortuous aorta. Lungs\\nwere clear. Prior EKG preoperatively showed sinus rhythm at\\n60 with a poor R wave progression.\\n\\nEXAM:  She was in sinus rate at a rate of 80, respiratory\\nrate 16, blood pressure 118/78 on the left, height 5 feet 1\\ninch tall, weight 118 pounds. She appeared her stated age and\\nwas in no apparent distress. She had no obvious skin lesions\\nand was unremarkable. Her EOMs were intact. Her pupils were\\nround and reactive to light and accommodation. Her neck was\\nsupple. She had full range of motion with no lymphadenopathy\\nor thyromegaly noted. Her lungs were clear bilaterally\\nwithout any rales or rhonchi. She had a well-healed sternal\\nincision from her aortic valvuloplasty. Heart was regular\\nrate and rhythm with a grade IV/VI systolic ejection murmur\\nthat radiated throughout her chest. Her abdomen was soft,\\nnontender, nondistended with positive bowel sounds.\\nExtremities were warm and well-perfused with no peripheral\\nedema. She had no obvious large varicosities. She was grossly\\nintact neurologically with cranial nerves II through XII\\ngrossly intact with a nonfocal exam, was alert and oriented\\nx3. She had bilateral 2+ femoral, DP and PT pulses. She had\\nno carotid bruit noted.\\n\\nSh[**Last Name (STitle) **]admitted on [**2118-4-18**] and underwent redo\\nsternotomy and aortic valve replacement with a 21 mm CE Magna\\nThermaFix pericardial valve and a 22 mm Gelweave thoracic\\noutlet ascending aorta graft by Dr. [**Last Name (Prefixes) **] and [**First Name4 (NamePattern1) **]\\n[**Last Name (NamePattern1) **]-[**Doctor Last Name 634**] of [**Hospital3 1810**]. She was transferred to\\nthe cardiothoracic ICU in a stable condition in sinus rhythm\\non an epinephrine drip at 0.02 mcg/kg/min, a Levophed drip of\\n0.03 mcg/kg/min, and a propofol drip of 50 mcg/kg/min. Of\\nnote, the patient did have 2 separate cardiopulmonary bypass\\nruns. Please refer to the operative dictated report.\\n\\nOn postoperative day 1, the patient was weaning slowly, was\\nagitated on CPAP, with a cardiac index of 3.34, a stable\\nblood pressure of 93/62, and T-max of 100.6. She was in sinus\\nrhythm at 86 with a postoperative white count of 8.4,\\nhematocrit 27.9, and creatinine of 0.7. She was in no\\napparent distress and was alert. Her heart was regular rate\\nand rhythm, and her chest was stable. Her lungs were clear\\nbilaterally. She had 2+ peripheral edema in her extremities.\\nShe was on a nitroglycerin drip at 1.0 and an epinephrine\\ndrip at 0.02, as well as an insulin drip at 3 units/h, and\\nwas started on her low-dose aspirin. She also began Lasix\\ndiuresis.\\n\\nShe was seen postoperatively also by Dr. [**Name (NI) **], her\\nsurgeon from [**Hospital1 **], as well as the cardiology fellow\\nfrom [**Hospital3 1810**]. She was also seen and evaluated by\\ncase management.\\n\\nOn postoperative day 2, she was off her epinephrine drip and\\nbegan gentle beta blockade with Lopressor 12.5 p.o. b.i.d.\\nShe was in sinus rhythm with a pressure of 92/46. She also\\nhad decreased breath sounds at her bases. Chest tubes\\nremained in place, and the patient had been extubated the day\\nprior.\\n\\nOn postoperative day 2, the patient was also transferred out\\nto the floor and was encouraged to increase her pulmonary\\ntoilet with incentive spirometry, was started on a low dosed\\nstatin, and was given Toradol IV q. 6 for several doses and\\nthen switched over to Ultram. Mediastinal chest tubes and\\npacing wires were removed. Lasix was switched over to p.o.\\ndosing 20 mg b.i.d. The patient was encouraged to increase\\nher activity level. She remained in sinus rhythm with a\\nstable creatinine of 0.6, and a stable hematocrit at 26.2.\\nHer sternal incision was clean, dry and intact and was\\nstable. The patient had some flatus that morning, but no\\nbowel movement at the time, and was again encouraged to\\nincrease her activity level and fluid intake.\\n\\nOf note, on postoperative day 3, the patient had a blood\\npressure of 90-100/50 with a little bit of elevated JVP. She\\nwas also seen and evaluated by her [**Hospital1 **] cardiology\\nattending, Dr. [**First Name4 (NamePattern1) **] [**Last Name (NamePattern1) **]. Her Lopressor was held for her\\nblood pressure at that time. The patient remained pleasant\\nand cooperative and well-oriented. She received 1 unit of\\npacked cells on the 26th with a blood pressure of 83/42 prior\\nto transfusion. She continued to work with nurses and\\nphysical therapist. Her mediastinal chest tube and her pacing\\nwires had been removed that morning also. Her beta blockade\\nwas discontinued. Pleural tubes remained in place. Her Foley\\nwas on gravity drainage with a plan to discontinue the Foley\\nlater in the afternoon.\\n\\nOn postoperative day 5, the patient had no events overnight,\\nremained off her beta blockade. A chest x-ray was ordered.\\nShe was encouraged to continue ambulating, and discharge\\nplanning was begun. She had a moderate amount of drainage\\nfrom her left pleural chest tube site. Her central venous\\nline had already been removed, and pacing wires had already\\nalso been removed. She was alert and oriented and nonfocal.\\nHer heart was regular rate and rhythm, and sternal incision\\nwas clean, dry and intact. She remained afebrile.\\n\\nOn[**Last Name (STitle) 14810**]perative day 6, the patient continue on diuresis with\\nLasix 20 mg b.i.d. Hematocrit remained stable at 29.2, and\\nher exam was otherwise unremarkable. Her peripheral edema\\nremained only trace at that time, and she continued to make\\nexcellent progress. Her left pleural tube was also removed on\\npostoperative day 6, and she was discharged to home in stable\\ncondition with VNA services on [**2118-4-25**] with the\\nfollowing recommendations for follow-up: She was instructed\\nto follow-up with Dr. [**Last Name (STitle) 60731**] in [**12-30**] weeks postdischarge, Dr.\\n[**First Name8 (NamePattern2) **] [**Last Name (NamePattern1) **], her primary care, in [**11-28**] weeks postdischarge,\\nto see her cardiologist, Dr. [**Last Name (STitle) 1924**], postoperatively, and to\\nfollow-up with Dr. [**Last Name (Prefixes) **] in the office at 4 weeks for\\npostop surgical visit.\\n\\nDISCHARGE DIAGNOSES:\\n1. Status post redo sternotomy with aortic valve replacement\\n   and replacement of ascending aorta.\\n2. Status post aortic valvuloplasty in [**2093**].\\n3. Status post right inguinal herniorrhaphy, tonsillectomy\\n   and adenoidectomy.\\n\\n\\nDISCHARGE MEDICATIONS:\\n1. Colace 100 mg p.o. b.i.d. for 30 days.\\n2. Enteric-coated aspirin 81 mg p.o. once daily.\\n3. Tramadol 50 mg p.o. q. [**3-2**] h. as needed.\\n4. Potassium chloride 20 mEq p.o. b.i.d. for 7 days.\\n5. Lasix 20 mg p.o. b.i.d. for 7 days.\\n6. Zantac 150 mg p.o. b.i.d.\\n\\nThe patient was discharged to home in stable condition on [**2118-4-25**].\\n\\n\\n\\n                        [**Doctor Last Name **] [**Last Name (Prefixes) **], M.D. [**MD Number(1) 1288**]\\n\\nDictated By:[**Last Name (NamePattern1) **]\\nMEDQUIST36\\nD:  [**2118-6-10**] 11:09:48\\nT:  [**2118-6-10**] 11:49:54\\nJob#:  [**Job Number 60732**]',\n",
       " 'short_codes': '396,990,352,384'}"
      ]
     },
     "execution_count": 13,
     "metadata": {},
     "output_type": "execute_result"
    }
   ],
   "source": [
    "proc_dataset[\"train\"][5]"
   ]
  },
  {
   "cell_type": "markdown",
   "metadata": {},
   "source": [
    "icd9 diag"
   ]
  },
  {
   "cell_type": "code",
   "execution_count": 5,
   "metadata": {},
   "outputs": [],
   "source": [
    "mimic_dia_dir = f\"{clinical_outcomes_dir}/dia/\""
   ]
  },
  {
   "cell_type": "code",
   "execution_count": 7,
   "metadata": {},
   "outputs": [
    {
     "data": {
      "text/plain": [
       "'/mnt/sdd/efficient_ml_data/datasets/mimic3-clinical-outcomes//dia/'"
      ]
     },
     "execution_count": 7,
     "metadata": {},
     "output_type": "execute_result"
    }
   ],
   "source": [
    "mimic_dia_dir"
   ]
  },
  {
   "cell_type": "code",
   "execution_count": 8,
   "metadata": {},
   "outputs": [
    {
     "name": "stdout",
     "output_type": "stream",
     "text": [
      "Downloading and preparing dataset csv/default to /home/niallt/.cache/huggingface/datasets/csv/default-6f196285a2ec5a34/0.0.0/6954658bab30a358235fa864b05cf819af0e179325c740e4bc853bcc7ec513e1...\n"
     ]
    },
    {
     "data": {
      "application/vnd.jupyter.widget-view+json": {
       "model_id": "b3919944974747a69935c91257f0050d",
       "version_major": 2,
       "version_minor": 0
      },
      "text/plain": [
       "Downloading data files:   0%|          | 0/3 [00:00<?, ?it/s]"
      ]
     },
     "metadata": {},
     "output_type": "display_data"
    },
    {
     "data": {
      "application/vnd.jupyter.widget-view+json": {
       "model_id": "7166f9f9b9f14cbe901299da4cc326cf",
       "version_major": 2,
       "version_minor": 0
      },
      "text/plain": [
       "Extracting data files:   0%|          | 0/3 [00:00<?, ?it/s]"
      ]
     },
     "metadata": {},
     "output_type": "display_data"
    },
    {
     "data": {
      "application/vnd.jupyter.widget-view+json": {
       "model_id": "414fb43ef194410aa3c35317cb666db3",
       "version_major": 2,
       "version_minor": 0
      },
      "text/plain": [
       "Generating train split: 0 examples [00:00, ? examples/s]"
      ]
     },
     "metadata": {},
     "output_type": "display_data"
    },
    {
     "data": {
      "application/vnd.jupyter.widget-view+json": {
       "model_id": "717796547add4e618c6ac975c1e1fdc3",
       "version_major": 2,
       "version_minor": 0
      },
      "text/plain": [
       "Generating validation split: 0 examples [00:00, ? examples/s]"
      ]
     },
     "metadata": {},
     "output_type": "display_data"
    },
    {
     "data": {
      "application/vnd.jupyter.widget-view+json": {
       "model_id": "60127a4fef4a47529fbcac7c1dc36790",
       "version_major": 2,
       "version_minor": 0
      },
      "text/plain": [
       "Generating test split: 0 examples [00:00, ? examples/s]"
      ]
     },
     "metadata": {},
     "output_type": "display_data"
    },
    {
     "name": "stdout",
     "output_type": "stream",
     "text": [
      "Dataset csv downloaded and prepared to /home/niallt/.cache/huggingface/datasets/csv/default-6f196285a2ec5a34/0.0.0/6954658bab30a358235fa864b05cf819af0e179325c740e4bc853bcc7ec513e1. Subsequent calls will reuse this data.\n"
     ]
    },
    {
     "data": {
      "application/vnd.jupyter.widget-view+json": {
       "model_id": "ef46137ea20d4123a52a15e8b90d282d",
       "version_major": 2,
       "version_minor": 0
      },
      "text/plain": [
       "  0%|          | 0/3 [00:00<?, ?it/s]"
      ]
     },
     "metadata": {},
     "output_type": "display_data"
    }
   ],
   "source": [
    "dia_dataset = load_dataset(\"csv\",\n",
    "                        data_files = {\"train\":f\"{mimic_dia_dir}/DIA_GROUPS_3_DIGITS_adm_train.csv\",\n",
    "                                        \"validation\":f\"{mimic_dia_dir}/DIA_GROUPS_3_DIGITS_adm_val.csv\",\n",
    "                                        \"test\":f\"{mimic_dia_dir}/DIA_GROUPS_3_DIGITS_adm_test.csv\"},)"
   ]
  },
  {
   "cell_type": "code",
   "execution_count": 10,
   "metadata": {},
   "outputs": [
    {
     "data": {
      "text/plain": [
       "{'id': 159643,\n",
       " 'text': 'CHIEF COMPLAINT: \\n\\nPRESENT ILLNESS: This 60 year old white male has a known murmur since childhood.  He is status post inferior myocardial infarction and anteroseptal myocardial infarction in [**2130**] and status post angioplasty at that time.  Since [**2140-9-23**] he has had increased dyspnea on exertion and an echocardiogram in [**2140-12-24**], revealed an aortic stenosis with an 80 mm gradient and ejection fraction of 40% with apical akinesis.  He had a cardiac catheterization in [**2140-12-24**] which revealed an ejection fraction of 40%, 1+ mitral regurgitation with moderate MAC, left anterior descending is 90% mid 90% lesion, diagonal 1 70% lesion and the right coronary artery had a mid occlusion.  He is now admitted for aortic valve replacement and coronary artery bypass graft.\\n\\nMEDICAL HISTORY: Significant for history of skin cancer of the left shoulder, history of hypothyroidism, history of hypercholesterolemia and history of hypertension and history of coronary artery disease, status post angioplasty in [**2130**], status post inferior myocardial infarction and anteroseptal myocardial infarction in [**2130**].\\n\\nMEDICATION ON ADMISSION: Prozac 20 mg p.o. q. day; Synthroid .125 mEq; Pravachol 80 mg p.o. q. day; Toprol XL 100 mg p.o. q. day; Altace 5 mg p.o. q. day; Aspirin 325 mg p.o. q. day.\\n\\nALLERGIES: No known drug allergies.\\n\\nPHYSICAL EXAM: \\n\\nFAMILY HISTORY: Significant for coronary artery disease.\\n\\nSOCIAL HISTORY: He smokes cigars occasionally and drinks alcohol occasionally.',\n",
       " 'short_codes': '424,428,276,997,427,414,412,V458'}"
      ]
     },
     "execution_count": 10,
     "metadata": {},
     "output_type": "execute_result"
    }
   ],
   "source": [
    "dia_dataset[\"train\"][0]"
   ]
  },
  {
   "cell_type": "markdown",
   "metadata": {},
   "source": [
    "# Test fewshot sampling"
   ]
  },
  {
   "cell_type": "code",
   "execution_count": 18,
   "metadata": {},
   "outputs": [],
   "source": [
    "# rename los label\n",
    "los_dataset = los_dataset.rename_column(\"los_label\",\"labels\")"
   ]
  },
  {
   "cell_type": "code",
   "execution_count": 19,
   "metadata": {},
   "outputs": [],
   "source": [
    "labels = np.unique(los_dataset['train']['labels']).tolist()"
   ]
  },
  {
   "cell_type": "code",
   "execution_count": null,
   "metadata": {},
   "outputs": [],
   "source": []
  },
  {
   "cell_type": "code",
   "execution_count": 20,
   "metadata": {},
   "outputs": [
    {
     "data": {
      "text/plain": [
       "[0, 1, 2, 3]"
      ]
     },
     "execution_count": 20,
     "metadata": {},
     "output_type": "execute_result"
    }
   ],
   "source": [
    "labels"
   ]
  },
  {
   "cell_type": "code",
   "execution_count": 55,
   "metadata": {},
   "outputs": [
    {
     "data": {
      "text/plain": [
       "DatasetDict({\n",
       "    train: Dataset({\n",
       "        features: ['id', 'text', 'labels'],\n",
       "        num_rows: 30421\n",
       "    })\n",
       "    validation: Dataset({\n",
       "        features: ['id', 'text', 'labels'],\n",
       "        num_rows: 4391\n",
       "    })\n",
       "    test: Dataset({\n",
       "        features: ['id', 'text', 'labels'],\n",
       "        num_rows: 8797\n",
       "    })\n",
       "})"
      ]
     },
     "execution_count": 55,
     "metadata": {},
     "output_type": "execute_result"
    }
   ],
   "source": [
    "los_dataset[]"
   ]
  },
  {
   "cell_type": "code",
   "execution_count": 56,
   "metadata": {},
   "outputs": [
    {
     "name": "stderr",
     "output_type": "stream",
     "text": [
      "Loading cached processed dataset at /home/niallt/.cache/huggingface/datasets/csv/default-85b93545fbaf13bc/0.0.0/6954658bab30a358235fa864b05cf819af0e179325c740e4bc853bcc7ec513e1/cache-0b4b4197dd27e828.arrow\n",
      "Loading cached shuffled indices for dataset at /home/niallt/.cache/huggingface/datasets/csv/default-85b93545fbaf13bc/0.0.0/6954658bab30a358235fa864b05cf819af0e179325c740e4bc853bcc7ec513e1/cache-62f01273f0f8d64c.arrow\n",
      "Loading cached processed dataset at /home/niallt/.cache/huggingface/datasets/csv/default-85b93545fbaf13bc/0.0.0/6954658bab30a358235fa864b05cf819af0e179325c740e4bc853bcc7ec513e1/cache-469efe14ec2bc115.arrow\n",
      "Loading cached shuffled indices for dataset at /home/niallt/.cache/huggingface/datasets/csv/default-85b93545fbaf13bc/0.0.0/6954658bab30a358235fa864b05cf819af0e179325c740e4bc853bcc7ec513e1/cache-eaa1ff6f42759f84.arrow\n",
      "Loading cached processed dataset at /home/niallt/.cache/huggingface/datasets/csv/default-85b93545fbaf13bc/0.0.0/6954658bab30a358235fa864b05cf819af0e179325c740e4bc853bcc7ec513e1/cache-3341178193395017.arrow\n",
      "Loading cached shuffled indices for dataset at /home/niallt/.cache/huggingface/datasets/csv/default-85b93545fbaf13bc/0.0.0/6954658bab30a358235fa864b05cf819af0e179325c740e4bc853bcc7ec513e1/cache-48573e6b10ef1e02.arrow\n",
      "Loading cached processed dataset at /home/niallt/.cache/huggingface/datasets/csv/default-85b93545fbaf13bc/0.0.0/6954658bab30a358235fa864b05cf819af0e179325c740e4bc853bcc7ec513e1/cache-531ee2115ef205fb.arrow\n",
      "Loading cached shuffled indices for dataset at /home/niallt/.cache/huggingface/datasets/csv/default-85b93545fbaf13bc/0.0.0/6954658bab30a358235fa864b05cf819af0e179325c740e4bc853bcc7ec513e1/cache-63a0f88d7e56cdec.arrow\n"
     ]
    }
   ],
   "source": [
    "\n",
    "num_samples_per_class = 50  # Set this to determine the number of samples per class\n",
    "\n",
    "# Extract subsets of the training dataset with equal number of samples per class\n",
    "\n",
    "train_datasets = []\n",
    "for label in range(len(labels)):\n",
    "    label_dataset = los_dataset['train'].filter(lambda x: x['labels'] == label).shuffle(seed=42)\n",
    "    num_samples = len(label_dataset)\n",
    "    if num_samples <= num_samples_per_class:\n",
    "        # select all samples in the label\n",
    "        pass\n",
    "    else:\n",
    "        # select num_samples_per_class samples from the label\n",
    "        label_dataset = label_dataset.select(range(num_samples_per_class))\n",
    "        \n",
    "    train_datasets.append(label_dataset)\n",
    "\n",
    "los_dataset[\"train\"] = concatenate_datasets(train_datasets)\n"
   ]
  },
  {
   "cell_type": "code",
   "execution_count": 57,
   "metadata": {},
   "outputs": [
    {
     "data": {
      "text/plain": [
       "DatasetDict({\n",
       "    train: Dataset({\n",
       "        features: ['id', 'text', 'labels'],\n",
       "        num_rows: 200\n",
       "    })\n",
       "    validation: Dataset({\n",
       "        features: ['id', 'text', 'labels'],\n",
       "        num_rows: 4391\n",
       "    })\n",
       "    test: Dataset({\n",
       "        features: ['id', 'text', 'labels'],\n",
       "        num_rows: 8797\n",
       "    })\n",
       "})"
      ]
     },
     "execution_count": 57,
     "metadata": {},
     "output_type": "execute_result"
    }
   ],
   "source": [
    "los_dataset"
   ]
  },
  {
   "cell_type": "code",
   "execution_count": 51,
   "metadata": {},
   "outputs": [
    {
     "data": {
      "text/plain": [
       "range(0, 50)"
      ]
     },
     "execution_count": 51,
     "metadata": {},
     "output_type": "execute_result"
    }
   ],
   "source": [
    "range(50)"
   ]
  },
  {
   "cell_type": "code",
   "execution_count": 59,
   "metadata": {},
   "outputs": [],
   "source": [
    "from datasets import DatasetDict"
   ]
  },
  {
   "cell_type": "code",
   "execution_count": 61,
   "metadata": {},
   "outputs": [],
   "source": [
    "d = DatasetDict()\n",
    "d[\"train\"] = los_dataset[\"train\"]"
   ]
  },
  {
   "cell_type": "code",
   "execution_count": 62,
   "metadata": {},
   "outputs": [
    {
     "data": {
      "text/plain": [
       "DatasetDict({\n",
       "    train: Dataset({\n",
       "        features: ['id', 'text', 'labels'],\n",
       "        num_rows: 200\n",
       "    })\n",
       "})"
      ]
     },
     "execution_count": 62,
     "metadata": {},
     "output_type": "execute_result"
    }
   ],
   "source": [
    "d"
   ]
  },
  {
   "cell_type": "code",
   "execution_count": 58,
   "metadata": {},
   "outputs": [
    {
     "data": {
      "text/plain": [
       "Dataset({\n",
       "    features: ['id', 'text', 'labels'],\n",
       "    num_rows: 30421\n",
       "})"
      ]
     },
     "execution_count": 58,
     "metadata": {},
     "output_type": "execute_result"
    }
   ],
   "source": [
    "fewshot_los_train_dataset"
   ]
  },
  {
   "cell_type": "code",
   "execution_count": 48,
   "metadata": {},
   "outputs": [
    {
     "name": "stdout",
     "output_type": "stream",
     "text": [
      "year\n"
     ]
    }
   ],
   "source": [
    "if \"labels\" in fewshot_los_train_dataset.features:\n",
    "    print(f\"year\")"
   ]
  },
  {
   "cell_type": "code",
   "execution_count": null,
   "metadata": {},
   "outputs": [],
   "source": []
  },
  {
   "cell_type": "code",
   "execution_count": null,
   "metadata": {},
   "outputs": [],
   "source": []
  },
  {
   "cell_type": "code",
   "execution_count": null,
   "metadata": {},
   "outputs": [],
   "source": []
  },
  {
   "cell_type": "markdown",
   "metadata": {},
   "source": [
    "# Random"
   ]
  },
  {
   "cell_type": "code",
   "execution_count": 3,
   "metadata": {},
   "outputs": [],
   "source": [
    "import nltk\n",
    "import pandas as pd"
   ]
  },
  {
   "cell_type": "code",
   "execution_count": 2,
   "metadata": {},
   "outputs": [],
   "source": [
    "text = [\"I have a headache and a fever\", \"random sentence\"]"
   ]
  },
  {
   "cell_type": "code",
   "execution_count": 5,
   "metadata": {},
   "outputs": [],
   "source": [
    "text_df = pd.DataFrame({\"id\": [0, 1], \"text\": text})"
   ]
  },
  {
   "cell_type": "code",
   "execution_count": 6,
   "metadata": {},
   "outputs": [
    {
     "data": {
      "text/html": [
       "<div>\n",
       "<style scoped>\n",
       "    .dataframe tbody tr th:only-of-type {\n",
       "        vertical-align: middle;\n",
       "    }\n",
       "\n",
       "    .dataframe tbody tr th {\n",
       "        vertical-align: top;\n",
       "    }\n",
       "\n",
       "    .dataframe thead th {\n",
       "        text-align: right;\n",
       "    }\n",
       "</style>\n",
       "<table border=\"1\" class=\"dataframe\">\n",
       "  <thead>\n",
       "    <tr style=\"text-align: right;\">\n",
       "      <th></th>\n",
       "      <th>id</th>\n",
       "      <th>text</th>\n",
       "    </tr>\n",
       "  </thead>\n",
       "  <tbody>\n",
       "    <tr>\n",
       "      <th>0</th>\n",
       "      <td>0</td>\n",
       "      <td>I have a headache and a fever</td>\n",
       "    </tr>\n",
       "    <tr>\n",
       "      <th>1</th>\n",
       "      <td>1</td>\n",
       "      <td>random sentence</td>\n",
       "    </tr>\n",
       "  </tbody>\n",
       "</table>\n",
       "</div>"
      ],
      "text/plain": [
       "   id                           text\n",
       "0   0  I have a headache and a fever\n",
       "1   1                random sentence"
      ]
     },
     "execution_count": 6,
     "metadata": {},
     "output_type": "execute_result"
    }
   ],
   "source": [
    "text_df"
   ]
  },
  {
   "cell_type": "code",
   "execution_count": 12,
   "metadata": {},
   "outputs": [],
   "source": [
    "text = text_df.text.str.lower().str.cat(sep=\" \")"
   ]
  },
  {
   "cell_type": "code",
   "execution_count": 13,
   "metadata": {},
   "outputs": [
    {
     "data": {
      "text/plain": [
       "'i have a headache and a fever random sentence'"
      ]
     },
     "execution_count": 13,
     "metadata": {},
     "output_type": "execute_result"
    }
   ],
   "source": [
    "text"
   ]
  },
  {
   "cell_type": "code",
   "execution_count": 19,
   "metadata": {},
   "outputs": [],
   "source": [
    "words = nltk.word_tokenize(text)"
   ]
  },
  {
   "cell_type": "code",
   "execution_count": 20,
   "metadata": {},
   "outputs": [
    {
     "data": {
      "text/plain": [
       "['I', 'have', 'a', 'headache', 'and', 'a', 'fever']"
      ]
     },
     "execution_count": 20,
     "metadata": {},
     "output_type": "execute_result"
    }
   ],
   "source": [
    "words"
   ]
  },
  {
   "cell_type": "code",
   "execution_count": 21,
   "metadata": {},
   "outputs": [
    {
     "data": {
      "text/plain": [
       "FreqDist({'a': 2, 'I': 1, 'have': 1, 'headache': 1, 'and': 1, 'fever': 1})"
      ]
     },
     "execution_count": 21,
     "metadata": {},
     "output_type": "execute_result"
    }
   ],
   "source": [
    "nltk.FreqDist(words)"
   ]
  },
  {
   "cell_type": "code",
   "execution_count": null,
   "metadata": {},
   "outputs": [],
   "source": []
  },
  {
   "cell_type": "code",
   "execution_count": 39,
   "metadata": {},
   "outputs": [],
   "source": [
    "import torch"
   ]
  },
  {
   "cell_type": "code",
   "execution_count": 41,
   "metadata": {},
   "outputs": [],
   "source": [
    "x = torch.randn(2, 6, 64)"
   ]
  },
  {
   "cell_type": "code",
   "execution_count": 42,
   "metadata": {},
   "outputs": [
    {
     "data": {
      "text/plain": [
       "torch.Size([2, 6, 64])"
      ]
     },
     "execution_count": 42,
     "metadata": {},
     "output_type": "execute_result"
    }
   ],
   "source": [
    "x.shape"
   ]
  },
  {
   "cell_type": "code",
   "execution_count": 44,
   "metadata": {},
   "outputs": [],
   "source": [
    "x_resized = x.view(-1, 64)"
   ]
  },
  {
   "cell_type": "code",
   "execution_count": 45,
   "metadata": {},
   "outputs": [
    {
     "data": {
      "text/plain": [
       "torch.Size([12, 64])"
      ]
     },
     "execution_count": 45,
     "metadata": {},
     "output_type": "execute_result"
    }
   ],
   "source": [
    "x_resized.shape"
   ]
  },
  {
   "cell_type": "code",
   "execution_count": 46,
   "metadata": {},
   "outputs": [],
   "source": [
    "from transformers import AutoTokenizer, AutoModel"
   ]
  },
  {
   "cell_type": "code",
   "execution_count": null,
   "metadata": {},
   "outputs": [],
   "source": [
    "# generate ra"
   ]
  }
 ],
 "metadata": {
  "kernelspec": {
   "display_name": "39nlp",
   "language": "python",
   "name": "python3"
  },
  "language_info": {
   "codemirror_mode": {
    "name": "ipython",
    "version": 3
   },
   "file_extension": ".py",
   "mimetype": "text/x-python",
   "name": "python",
   "nbconvert_exporter": "python",
   "pygments_lexer": "ipython3",
   "version": "3.9.16"
  },
  "orig_nbformat": 4
 },
 "nbformat": 4,
 "nbformat_minor": 2
}
