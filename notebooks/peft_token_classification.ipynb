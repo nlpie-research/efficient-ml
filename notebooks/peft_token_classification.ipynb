{
 "cells": [
  {
   "cell_type": "code",
   "execution_count": 45,
   "metadata": {},
   "outputs": [],
   "source": [
    "import argparse\n",
    "import os\n",
    "\n",
    "import torch\n",
    "from torch.optim import AdamW\n",
    "from torch.utils.data import DataLoader\n",
    "from peft import get_peft_config, get_peft_model, LoraConfig, TaskType\n",
    "from peft import (\n",
    "    get_peft_config,\n",
    "    get_peft_model,\n",
    "    get_peft_model_state_dict,\n",
    "    set_peft_model_state_dict,\n",
    "    PeftType,\n",
    "    PrefixTuningConfig,\n",
    "    PromptEncoderConfig,\n",
    "    PromptTuningConfig,\n",
    ")\n",
    "\n",
    "\n",
    "import evaluate\n",
    "from datasets import load_dataset, load_from_disk\n",
    "from transformers import AutoModel,AutoModelForSequenceClassification, AutoModelForTokenClassification, AutoTokenizer, get_linear_schedule_with_warmup, set_seed\n",
    "from tqdm import tqdm\n",
    "from loguru import logger as loguru_logger\n",
    "import numpy as np\n",
    "\n",
    "import sys\n",
    "sys.path.append(\"../\")\n"
   ]
  },
  {
   "cell_type": "code",
   "execution_count": 9,
   "metadata": {},
   "outputs": [],
   "source": [
    "\n",
    "class DatasetInfo:\n",
    "  def __init__(self, name,\n",
    "               type=\"ner\", \n",
    "               metric=None, \n",
    "               load_from_disk=True,\n",
    "               isMultiSentence=False, \n",
    "               validationSubsets=[\"test\"],\n",
    "               lr=[5e-5, 2e-5, 1e-5], \n",
    "               batch_size=[32], \n",
    "               epochs=3, \n",
    "               runs=1,\n",
    "               num_labels=None):\n",
    "\n",
    "    self.name = name\n",
    "    self.isMultiSentence = isMultiSentence\n",
    "    self.validationSubsets = validationSubsets\n",
    "    self.lr = lr\n",
    "    self.batch_size = batch_size\n",
    "    self.epochs = epochs\n",
    "    self.runs = runs\n",
    "    self.load_from_disk = load_from_disk\n",
    "    self.type = type\n",
    "    self.num_labels = num_labels\n",
    "\n",
    "    if metric == None:\n",
    "      self.metric = \"accuracy\"\n",
    "    else:\n",
    "      self.metric = metric\n",
    "\n",
    "    self.fullName = name + \"-\" + self.metric\n",
    "\n",
    "class ModelInfo:\n",
    "  def __init__(self, pretrainedPath, modelPath, isCustom=False, isAdapterTuning=False, use_token_type_ids=True):\n",
    "    self.pretrainedPath = pretrainedPath\n",
    "    self.modelPath = modelPath\n",
    "\n",
    "    self.logsPath = pretrainedPath + f\"/\"\n",
    "\n",
    "    self.isCustom = isCustom\n",
    "    self.isAdapterTuning = isAdapterTuning\n",
    "    self.use_token_type_ids = use_token_type_ids\n",
    "\n",
    "  def get_logs_path(self, datasetName):\n",
    "    return self.logsPath + f\"{datasetName}.txt\" if not self.isAdapterTuning else self.logsPath + f\"{datasetName}-adapter.txt\"\n",
    "  \n",
    "  def load_model(self, num_labels, ds):\n",
    "    if self.isCustom:\n",
    "      if ds.type == \"classification\":\n",
    "        model = AutoModelForSequenceClassification.from_pretrained(self.modelPath, num_labels=num_labels)\n",
    "      elif ds.type == \"ner\":\n",
    "        model = AutoModelForTokenClassification.from_pretrained(self.modelPath, num_labels=num_labels)\n",
    "\n",
    "      if self.isAdapterTuning:\n",
    "        model.trainAdaptersOnly()\n",
    "    else:\n",
    "      if ds.type == \"classification\":\n",
    "        model = AutoModelForSequenceClassification.from_pretrained(self.modelPath, num_labels=num_labels)\n",
    "      elif ds.type == \"ner\":\n",
    "        model = AutoModelForTokenClassification.from_pretrained(self.modelPath, num_labels=num_labels)\n",
    "    \n",
    "    return model"
   ]
  },
  {
   "cell_type": "code",
   "execution_count": 2,
   "metadata": {},
   "outputs": [
    {
     "data": {
      "text/plain": [
       "LoraConfig(peft_type=<PeftType.LORA: 'LORA'>, base_model_name_or_path=None, task_type=<TaskType.TOKEN_CLS: 'TOKEN_CLS'>, inference_mode=False, r=16, target_modules=None, lora_alpha=16, lora_dropout=0.1, fan_in_fan_out=False, bias='all', modules_to_save=None, init_lora_weights=True)"
      ]
     },
     "execution_count": 2,
     "metadata": {},
     "output_type": "execute_result"
    }
   ],
   "source": [
    "peft_config = LoraConfig(\n",
    "    task_type=TaskType.TOKEN_CLS, inference_mode=False, r=16, lora_alpha=16, lora_dropout=0.1, bias=\"all\"\n",
    ")\n",
    "peft_config"
   ]
  },
  {
   "attachments": {},
   "cell_type": "markdown",
   "metadata": {},
   "source": [
    "### Test with i2b2 2010 dataset for now"
   ]
  },
  {
   "cell_type": "code",
   "execution_count": 4,
   "metadata": {},
   "outputs": [],
   "source": [
    "i2b2_2010_data_dir = \"/mnt/sdd/niallt/bio-lm/data/tasks/I2B22010NER_hf_dataset/\"\n",
    "i2b2_2010_dataset = load_from_disk(i2b2_2010_data_dir)"
   ]
  },
  {
   "cell_type": "code",
   "execution_count": 27,
   "metadata": {},
   "outputs": [
    {
     "data": {
      "text/plain": [
       "{'tokens': ['23238893'], 'ner_tags_str': ['O'], 'ner_tags': [6]}"
      ]
     },
     "execution_count": 27,
     "metadata": {},
     "output_type": "execute_result"
    }
   ],
   "source": [
    "i2b2_2010_dataset['train'][2]"
   ]
  },
  {
   "cell_type": "code",
   "execution_count": 39,
   "metadata": {},
   "outputs": [],
   "source": [
    "# load a tokenizer and model\n",
    "model_name_or_path = \"roberta-base\"\n",
    "if model_name_or_path == \"roberta-base\":\n",
    "    \n",
    "    tokenizer = AutoTokenizer.from_pretrained(\"roberta-base\", add_prefix_space=True)\n",
    "else:\n",
    "    tokenizer = AutoTokenizer.from_pretrained(\"roberta-base\")"
   ]
  },
  {
   "cell_type": "code",
   "execution_count": 29,
   "metadata": {},
   "outputs": [
    {
     "data": {
      "text/plain": [
       "RobertaTokenizerFast(name_or_path='roberta-base', vocab_size=50265, model_max_length=512, is_fast=True, padding_side='right', truncation_side='right', special_tokens={'bos_token': '<s>', 'eos_token': '</s>', 'unk_token': '<unk>', 'sep_token': '</s>', 'pad_token': '<pad>', 'cls_token': '<s>', 'mask_token': AddedToken(\"<mask>\", rstrip=False, lstrip=True, single_word=False, normalized=False)})"
      ]
     },
     "execution_count": 29,
     "metadata": {},
     "output_type": "execute_result"
    }
   ],
   "source": [
    "tokenizer"
   ]
  },
  {
   "cell_type": "code",
   "execution_count": 6,
   "metadata": {},
   "outputs": [],
   "source": [
    "def load_datasets(info):\n",
    "  \"\"\"#Dataset Utilities\"\"\"\n",
    "  \n",
    "  if not info.load_from_disk:\n",
    "    dataset = load_dataset(info.name)\n",
    "  else:\n",
    "    dataset = load_from_disk(info.name)\n",
    "\n",
    "  if info.type == \"classification\":\n",
    "    num_labels = len(set(dataset[\"train\"][\"labels\"]))\n",
    "    def mappingFunction(samples, **kargs):\n",
    "      if info.isMultiSentence:\n",
    "        outputs = tokenizer(samples[dataset[\"train\"].column_names[0]],\n",
    "                            samples[dataset[\"train\"].column_names[1]],\n",
    "                            max_length=512,\n",
    "                            truncation=True,\n",
    "                            padding=kargs[\"padding\"])\n",
    "      else:\n",
    "        outputs = tokenizer(samples[dataset[\"train\"].column_names[0]],\n",
    "                            truncation=True,\n",
    "                            max_length=512,\n",
    "                            padding=kargs[\"padding\"])\n",
    "\n",
    "      outputs[\"labels\"] = samples[\"labels\"]\n",
    "\n",
    "      return outputs\n",
    "  elif info.type == \"ner\":\n",
    "    # print(dataset)\n",
    "    num_labels = len(dataset[\"info\"][0][\"all_ner_tags\"])\n",
    "    def mappingFunction(all_samples_per_split, **kargs):\n",
    "      tokenized_samples = tokenizer.batch_encode_plus(all_samples_per_split[\"tokens\"],\n",
    "                                                      is_split_into_words=True, \n",
    "                                                      truncation=True,\n",
    "                                                      max_length=512,\n",
    "                                                      padding=kargs[\"padding\"])  \n",
    "      total_adjusted_labels = []\n",
    "\n",
    "      for k in range(0, len(tokenized_samples[\"input_ids\"])):\n",
    "        prev_wid = -1\n",
    "        word_ids_list = tokenized_samples.word_ids(batch_index=k)\n",
    "        existing_label_ids = all_samples_per_split[\"ner_tags\"][k]\n",
    "        i = -1\n",
    "        adjusted_label_ids = []\n",
    "\n",
    "        for wid in word_ids_list:\n",
    "          if(wid is None):\n",
    "            adjusted_label_ids.append(-100)\n",
    "          elif(wid!=prev_wid):\n",
    "            i = i + 1\n",
    "            adjusted_label_ids.append(existing_label_ids[i])\n",
    "            prev_wid = wid\n",
    "          else:\n",
    "            adjusted_label_ids.append(existing_label_ids[i])\n",
    "            \n",
    "        total_adjusted_labels.append(adjusted_label_ids)\n",
    "\n",
    "      tokenized_samples[\"labels\"] = total_adjusted_labels\n",
    "      \n",
    "      return tokenized_samples\n",
    "\n",
    "  tokenizedTrainDataset = dataset[\"train\"].map(mappingFunction,\n",
    "                                              batched=True,\n",
    "                                              remove_columns=dataset[\"train\"].column_names,\n",
    "                                              fn_kwargs={\"padding\": \"do_not_pad\"})\n",
    "    \n",
    "  tokenizedValDatasets = []\n",
    "\n",
    "  for name in info.validationSubsets:\n",
    "    tokenizedValDataset = dataset[name].map(mappingFunction,\n",
    "                                            batched=True,\n",
    "                                            remove_columns=dataset[name].column_names,\n",
    "                                            fn_kwargs={\"padding\": \"do_not_pad\"})\n",
    "    \n",
    "    tokenizedValDatasets.append(tokenizedValDataset)\n",
    "\n",
    "  if info.num_labels != None:\n",
    "    num_labels = info.num_labels\n",
    "\n",
    "  return tokenizedTrainDataset, tokenizedValDatasets, num_labels, dataset[\"info\"][0][\"all_ner_tags\"]"
   ]
  },
  {
   "attachments": {},
   "cell_type": "markdown",
   "metadata": {},
   "source": [
    "### encode datasets"
   ]
  },
  {
   "cell_type": "code",
   "execution_count": 16,
   "metadata": {},
   "outputs": [],
   "source": [
    "datasets = [\n",
    "    DatasetInfo(\"/mnt/sdd/niallt/bio-lm/data/tasks/I2B22010NER_hf_dataset/\", #Use the pre-processing code in BioLM (https://github.com/facebookresearch/bio-lm)\n",
    "                metric=\"f1\",\n",
    "                load_from_disk=True,\n",
    "                type=\"ner\",\n",
    "                isMultiSentence=False,\n",
    "                lr=[5e-5, 2e-5, 1e-5],\n",
    "                epochs=3,\n",
    "                batch_size=[16],\n",
    "                runs=1)]"
   ]
  },
  {
   "cell_type": "code",
   "execution_count": 17,
   "metadata": {},
   "outputs": [
    {
     "data": {
      "text/plain": [
       "'f1'"
      ]
     },
     "execution_count": 17,
     "metadata": {},
     "output_type": "execute_result"
    }
   ],
   "source": [
    "datasets[0].metric"
   ]
  },
  {
   "cell_type": "code",
   "execution_count": 30,
   "metadata": {},
   "outputs": [
    {
     "data": {
      "application/vnd.jupyter.widget-view+json": {
       "model_id": "356620707ec44d218879efa23ae43f47",
       "version_major": 2,
       "version_minor": 0
      },
      "text/plain": [
       "Map:   0%|          | 0/6726 [00:00<?, ? examples/s]"
      ]
     },
     "metadata": {},
     "output_type": "display_data"
    },
    {
     "data": {
      "application/vnd.jupyter.widget-view+json": {
       "model_id": "8e75cca356f449e7a4202ca561c8b847",
       "version_major": 2,
       "version_minor": 0
      },
      "text/plain": [
       "Map:   0%|          | 0/27626 [00:00<?, ? examples/s]"
      ]
     },
     "metadata": {},
     "output_type": "display_data"
    }
   ],
   "source": [
    "train_dataset, valid_dataset, num_labels, all_ner_tags = load_datasets(datasets[0])\n",
    "    "
   ]
  },
  {
   "cell_type": "code",
   "execution_count": 33,
   "metadata": {},
   "outputs": [
    {
     "data": {
      "text/plain": [
       "{'tokens': ['910458031'], 'ner_tags_str': ['O'], 'ner_tags': [6]}"
      ]
     },
     "execution_count": 33,
     "metadata": {},
     "output_type": "execute_result"
    }
   ],
   "source": [
    "i2b2_2010_dataset['train'][0]"
   ]
  },
  {
   "cell_type": "code",
   "execution_count": 35,
   "metadata": {},
   "outputs": [
    {
     "data": {
      "text/plain": [
       "{'input_ids': [0,\n",
       "  20,\n",
       "  38951,\n",
       "  2156,\n",
       "  9574,\n",
       "  2156,\n",
       "  1487,\n",
       "  41,\n",
       "  4353,\n",
       "  2329,\n",
       "  225,\n",
       "  1975,\n",
       "  9636,\n",
       "  179,\n",
       "  4982,\n",
       "  36,\n",
       "  14926,\n",
       "  6884,\n",
       "  1115,\n",
       "  31867,\n",
       "  1907,\n",
       "  25606,\n",
       "  38791,\n",
       "  179,\n",
       "  5591,\n",
       "  4839,\n",
       "  479,\n",
       "  2],\n",
       " 'attention_mask': [1,\n",
       "  1,\n",
       "  1,\n",
       "  1,\n",
       "  1,\n",
       "  1,\n",
       "  1,\n",
       "  1,\n",
       "  1,\n",
       "  1,\n",
       "  1,\n",
       "  1,\n",
       "  1,\n",
       "  1,\n",
       "  1,\n",
       "  1,\n",
       "  1,\n",
       "  1,\n",
       "  1,\n",
       "  1,\n",
       "  1,\n",
       "  1,\n",
       "  1,\n",
       "  1,\n",
       "  1,\n",
       "  1,\n",
       "  1,\n",
       "  1],\n",
       " 'labels': [-100,\n",
       "  3,\n",
       "  0,\n",
       "  6,\n",
       "  6,\n",
       "  6,\n",
       "  6,\n",
       "  1,\n",
       "  5,\n",
       "  5,\n",
       "  5,\n",
       "  5,\n",
       "  5,\n",
       "  5,\n",
       "  5,\n",
       "  6,\n",
       "  6,\n",
       "  6,\n",
       "  6,\n",
       "  6,\n",
       "  6,\n",
       "  6,\n",
       "  6,\n",
       "  6,\n",
       "  6,\n",
       "  6,\n",
       "  6,\n",
       "  -100]}"
      ]
     },
     "execution_count": 35,
     "metadata": {},
     "output_type": "execute_result"
    }
   ],
   "source": [
    "train_dataset[30]"
   ]
  },
  {
   "cell_type": "code",
   "execution_count": 36,
   "metadata": {},
   "outputs": [
    {
     "data": {
      "text/plain": [
       "'<s> The pathology, unfortunately, revealed an aggressive adenocarcinoma ( micropapillary type ; mucin producing ).</s>'"
      ]
     },
     "execution_count": 36,
     "metadata": {},
     "output_type": "execute_result"
    }
   ],
   "source": [
    "tokenizer.decode(train_dataset[30][\"input_ids\"])"
   ]
  },
  {
   "cell_type": "code",
   "execution_count": 40,
   "metadata": {},
   "outputs": [
    {
     "data": {
      "text/plain": [
       "7"
      ]
     },
     "execution_count": 40,
     "metadata": {},
     "output_type": "execute_result"
    }
   ],
   "source": [
    "num_labels"
   ]
  },
  {
   "attachments": {},
   "cell_type": "markdown",
   "metadata": {},
   "source": [
    "### load peft model"
   ]
  },
  {
   "cell_type": "code",
   "execution_count": 46,
   "metadata": {},
   "outputs": [
    {
     "name": "stderr",
     "output_type": "stream",
     "text": [
      "Some weights of the model checkpoint at roberta-base were not used when initializing RobertaModel: ['lm_head.dense.weight', 'lm_head.dense.bias', 'lm_head.layer_norm.weight', 'lm_head.bias', 'lm_head.layer_norm.bias', 'lm_head.decoder.weight']\n",
      "- This IS expected if you are initializing RobertaModel from the checkpoint of a model trained on another task or with another architecture (e.g. initializing a BertForSequenceClassification model from a BertForPreTraining model).\n",
      "- This IS NOT expected if you are initializing RobertaModel from the checkpoint of a model that you expect to be exactly identical (initializing a BertForSequenceClassification model from a BertForSequenceClassification model).\n"
     ]
    }
   ],
   "source": [
    "# sanity check what comes out and goes into token classifier\n",
    "base_model = AutoModel.from_pretrained(\"roberta-base\")"
   ]
  },
  {
   "cell_type": "code",
   "execution_count": 47,
   "metadata": {},
   "outputs": [],
   "source": [
    "inputs = tokenizer(\"Hello, my dog is cute\", return_tensors=\"pt\")"
   ]
  },
  {
   "cell_type": "code",
   "execution_count": 48,
   "metadata": {},
   "outputs": [],
   "source": [
    "outputs = base_model(**inputs)"
   ]
  },
  {
   "cell_type": "code",
   "execution_count": 51,
   "metadata": {},
   "outputs": [
    {
     "data": {
      "text/plain": [
       "torch.Size([1, 8, 768])"
      ]
     },
     "execution_count": 51,
     "metadata": {},
     "output_type": "execute_result"
    }
   ],
   "source": [
    "outputs[0].shape"
   ]
  },
  {
   "cell_type": "code",
   "execution_count": 41,
   "metadata": {},
   "outputs": [
    {
     "name": "stderr",
     "output_type": "stream",
     "text": [
      "Some weights of the model checkpoint at roberta-base were not used when initializing RobertaForTokenClassification: ['lm_head.dense.weight', 'lm_head.dense.bias', 'lm_head.layer_norm.weight', 'lm_head.bias', 'lm_head.layer_norm.bias', 'lm_head.decoder.weight']\n",
      "- This IS expected if you are initializing RobertaForTokenClassification from the checkpoint of a model trained on another task or with another architecture (e.g. initializing a BertForSequenceClassification model from a BertForPreTraining model).\n",
      "- This IS NOT expected if you are initializing RobertaForTokenClassification from the checkpoint of a model that you expect to be exactly identical (initializing a BertForSequenceClassification model from a BertForSequenceClassification model).\n",
      "Some weights of RobertaForTokenClassification were not initialized from the model checkpoint at roberta-base and are newly initialized: ['classifier.bias', 'classifier.weight']\n",
      "You should probably TRAIN this model on a down-stream task to be able to use it for predictions and inference.\n"
     ]
    }
   ],
   "source": [
    "model = AutoModelForTokenClassification.from_pretrained(model_name_or_path,\n",
    "                                                        num_labels = num_labels,\n",
    "                                                        return_dict=True)"
   ]
  },
  {
   "cell_type": "code",
   "execution_count": 52,
   "metadata": {},
   "outputs": [],
   "source": [
    "outputs = model(**inputs)"
   ]
  },
  {
   "cell_type": "code",
   "execution_count": 54,
   "metadata": {},
   "outputs": [
    {
     "data": {
      "text/plain": [
       "torch.Size([1, 8, 7])"
      ]
     },
     "execution_count": 54,
     "metadata": {},
     "output_type": "execute_result"
    }
   ],
   "source": [
    "outputs.logits.shape"
   ]
  },
  {
   "cell_type": "code",
   "execution_count": 42,
   "metadata": {},
   "outputs": [
    {
     "data": {
      "text/plain": [
       "RobertaForTokenClassification(\n",
       "  (roberta): RobertaModel(\n",
       "    (embeddings): RobertaEmbeddings(\n",
       "      (word_embeddings): Embedding(50265, 768, padding_idx=1)\n",
       "      (position_embeddings): Embedding(514, 768, padding_idx=1)\n",
       "      (token_type_embeddings): Embedding(1, 768)\n",
       "      (LayerNorm): LayerNorm((768,), eps=1e-05, elementwise_affine=True)\n",
       "      (dropout): Dropout(p=0.1, inplace=False)\n",
       "    )\n",
       "    (encoder): RobertaEncoder(\n",
       "      (layer): ModuleList(\n",
       "        (0-11): 12 x RobertaLayer(\n",
       "          (attention): RobertaAttention(\n",
       "            (self): RobertaSelfAttention(\n",
       "              (query): Linear(in_features=768, out_features=768, bias=True)\n",
       "              (key): Linear(in_features=768, out_features=768, bias=True)\n",
       "              (value): Linear(in_features=768, out_features=768, bias=True)\n",
       "              (dropout): Dropout(p=0.1, inplace=False)\n",
       "            )\n",
       "            (output): RobertaSelfOutput(\n",
       "              (dense): Linear(in_features=768, out_features=768, bias=True)\n",
       "              (LayerNorm): LayerNorm((768,), eps=1e-05, elementwise_affine=True)\n",
       "              (dropout): Dropout(p=0.1, inplace=False)\n",
       "            )\n",
       "          )\n",
       "          (intermediate): RobertaIntermediate(\n",
       "            (dense): Linear(in_features=768, out_features=3072, bias=True)\n",
       "            (intermediate_act_fn): GELUActivation()\n",
       "          )\n",
       "          (output): RobertaOutput(\n",
       "            (dense): Linear(in_features=3072, out_features=768, bias=True)\n",
       "            (LayerNorm): LayerNorm((768,), eps=1e-05, elementwise_affine=True)\n",
       "            (dropout): Dropout(p=0.1, inplace=False)\n",
       "          )\n",
       "        )\n",
       "      )\n",
       "    )\n",
       "  )\n",
       "  (dropout): Dropout(p=0.1, inplace=False)\n",
       "  (classifier): Linear(in_features=768, out_features=7, bias=True)\n",
       ")"
      ]
     },
     "execution_count": 42,
     "metadata": {},
     "output_type": "execute_result"
    }
   ],
   "source": [
    "model"
   ]
  },
  {
   "cell_type": "code",
   "execution_count": 43,
   "metadata": {},
   "outputs": [
    {
     "data": {
      "text/plain": [
       "LoraConfig(peft_type=<PeftType.LORA: 'LORA'>, base_model_name_or_path=None, task_type=<TaskType.TOKEN_CLS: 'TOKEN_CLS'>, inference_mode=False, r=16, target_modules=None, lora_alpha=16, lora_dropout=0.1, fan_in_fan_out=False, bias='all', modules_to_save=None, init_lora_weights=True)"
      ]
     },
     "execution_count": 43,
     "metadata": {},
     "output_type": "execute_result"
    }
   ],
   "source": [
    "peft_config"
   ]
  },
  {
   "cell_type": "code",
   "execution_count": 44,
   "metadata": {},
   "outputs": [
    {
     "name": "stdout",
     "output_type": "stream",
     "text": [
      "trainable params: 702734 || all params: 124655630 || trainable%: 0.5637402819270979\n"
     ]
    }
   ],
   "source": [
    "\n",
    "\n",
    "# load peft model\n",
    "model = get_peft_model(model, peft_config)\n",
    "model.print_trainable_parameters()"
   ]
  },
  {
   "cell_type": "code",
   "execution_count": null,
   "metadata": {},
   "outputs": [],
   "source": []
  }
 ],
 "metadata": {
  "kernelspec": {
   "display_name": "39nlp",
   "language": "python",
   "name": "python3"
  },
  "language_info": {
   "codemirror_mode": {
    "name": "ipython",
    "version": 3
   },
   "file_extension": ".py",
   "mimetype": "text/x-python",
   "name": "python",
   "nbconvert_exporter": "python",
   "pygments_lexer": "ipython3",
   "version": "3.9.16"
  },
  "orig_nbformat": 4
 },
 "nbformat": 4,
 "nbformat_minor": 2
}
